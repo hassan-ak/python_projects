{
  "cells": [
    {
      "cell_type": "markdown",
      "metadata": {
        "id": "7brtIArGlpL2"
      },
      "source": [
        "# Question\n",
        "From the given data answer the following questions\n",
        "- Check weather female performs good or male studentds in each score.\n",
        "- Is there any difference in student score if parents have master-level education in each score\n",
        "- Is there any difference in student score if parents have bachler-level education in each score\n",
        "- How many Parents have bachelors education, master education, or some college degrees level education\n",
        "- In a score the top scorer is male or female\n",
        "- How many students are good in reading (>75) nut not in writing (<75)"
      ]
    },
    {
      "cell_type": "markdown",
      "metadata": {},
      "source": [
        "## Solution:-"
      ]
    },
    {
      "cell_type": "markdown",
      "metadata": {
        "id": "N4Pwjd_TlpL5"
      },
      "source": [
        "### Imports"
      ]
    },
    {
      "cell_type": "code",
      "execution_count": 1,
      "metadata": {
        "id": "V5HGMLvUlpL-"
      },
      "outputs": [],
      "source": [
        "import pandas as pd"
      ]
    },
    {
      "cell_type": "markdown",
      "metadata": {
        "id": "BIhf2WyolpME"
      },
      "source": [
        "### Data"
      ]
    },
    {
      "cell_type": "code",
      "execution_count": 2,
      "metadata": {
        "id": "e9UdsNOWlpMG"
      },
      "outputs": [],
      "source": [
        "# Input Data\n",
        "labels = ['gender', 'parental level of education', 'test preparation course', 'math score', 'reading score', 'writing score']\n",
        "data = [ \n",
        "   ['female',  \"bachelor's degree\",    'none',        '72', '72', '74'], \n",
        "   ['female',  'some college',         'completed',   '69', '90', '88'], \n",
        "   ['female',  \"master's degree\",      'none',        '90', '95', '93'], \n",
        "   ['male',    \"associate's degree\",   'none',        '47', '57', '44'], \n",
        "   ['male',    'some college',         'none',        '76', '78', '75'], \n",
        "   ['female',  \"associate's degree\",   'none',        '71', '83', '78'], \n",
        "   ['female',  'some college',         'completed',   '88', '95', '92'], \n",
        "   ['male',    'some college',         'none',        '40', '43', '39'], \n",
        "   ['male',    'high school',          'completed',   '64', '64', '67'], \n",
        "   ['female',  'high school',          'none',        '38', '60', '50'], \n",
        "   ['male',    \"associate's degree\",   'none',        '58', '54', '52'], \n",
        "   ['male',    \"associate's degree\",   'none',        '40', '52', '43'], \n",
        "   ['female',  'high school',          'none',        '65', '81', '73'], \n",
        "   ['male',    'some college',         'completed',   '78', '72', '70'], \n",
        "   ['female',  \"master's degree\",      'none',        '50', '53', '58'], \n",
        "   ['female',  'some high school',     'none',        '69', '75', '78'], \n",
        "   ['male',    'high school',          'none',        '88', '89', '86'], \n",
        "   ['female',  'some high school',     'none',        '18', '32', '28'], \n",
        "   ['male',    \"master's degree\",      'completed',   '46', '42', '46'], \n",
        "   ['female',  \"associate's degree\",   'none',        '54', '58', '61'], \n",
        "   ['male',    'high school',          'none',        '66', '69', '63'], \n",
        "   ['female',  'some college',         'completed',   '65', '75', '70'], \n",
        "   ['male',    'some college',         'none',        '44', '54', '53'], \n",
        "   ['female',  'some high school',     'none',        '69', '73', '73'], \n",
        "   ['male',    \"bachelor's degree\",    'completed',   '74', '71', '80'], \n",
        "   ['male',    \"master's degree\",      'none',        '73', '74', '72'], \n",
        "   ['male',    'some college',         'none',        '69', '54', '55'], \n",
        "   ['female',  \"bachelor's degree\",    'none',        '67', '69', '75'], \n",
        "   ['male',    'high school',          'none',        '70', '70', '65'], \n",
        "   ['female',  \"master's degree\",      'none',        '62', '70', '75'], \n",
        "   ['female',  'some college',         'none',        '69', '74', '74'], \n",
        "   ['female',  'some college',         'none',        '63', '65', '61'], \n",
        "   ['female',  \"master's degree\",      'none',        '56', '72', '65'], \n",
        "   ['male',    'some college',        'none',        '40', '42', '38'], \n",
        "   ['male',    'some college',         'none',        '97', '87', '82'], \n",
        "   ['male',    \"associate's degree\",   'completed',   '81', '81', '79'], \n",
        "   ['female',  \"associate's degree\",   'none',        '74', '81', '83'], \n",
        "   ['female',  'some high school',     'none',        '50', '64', '59'], \n",
        "   ['female',  \"associate's degree\",   'completed',   '75', '90', '88'], \n",
        "]"
      ]
    },
    {
      "cell_type": "code",
      "execution_count": 3,
      "metadata": {
        "colab": {
          "base_uri": "https://localhost:8080/",
          "height": 238
        },
        "id": "lANb9pDtlpMk",
        "outputId": "7abc02f2-5d34-40d8-bd7b-07621b2a73a0"
      },
      "outputs": [
        {
          "data": {
            "text/html": [
              "<div>\n",
              "<style scoped>\n",
              "    .dataframe tbody tr th:only-of-type {\n",
              "        vertical-align: middle;\n",
              "    }\n",
              "\n",
              "    .dataframe tbody tr th {\n",
              "        vertical-align: top;\n",
              "    }\n",
              "\n",
              "    .dataframe thead th {\n",
              "        text-align: right;\n",
              "    }\n",
              "</style>\n",
              "<table border=\"1\" class=\"dataframe\">\n",
              "  <thead>\n",
              "    <tr style=\"text-align: right;\">\n",
              "      <th></th>\n",
              "      <th>0</th>\n",
              "    </tr>\n",
              "  </thead>\n",
              "  <tbody>\n",
              "    <tr>\n",
              "      <th>0</th>\n",
              "      <td>gender</td>\n",
              "    </tr>\n",
              "    <tr>\n",
              "      <th>1</th>\n",
              "      <td>parental level of education</td>\n",
              "    </tr>\n",
              "    <tr>\n",
              "      <th>2</th>\n",
              "      <td>test preparation course</td>\n",
              "    </tr>\n",
              "    <tr>\n",
              "      <th>3</th>\n",
              "      <td>math score</td>\n",
              "    </tr>\n",
              "    <tr>\n",
              "      <th>4</th>\n",
              "      <td>reading score</td>\n",
              "    </tr>\n",
              "    <tr>\n",
              "      <th>5</th>\n",
              "      <td>writing score</td>\n",
              "    </tr>\n",
              "  </tbody>\n",
              "</table>\n",
              "</div>"
            ],
            "text/plain": [
              "                             0\n",
              "0                       gender\n",
              "1  parental level of education\n",
              "2      test preparation course\n",
              "3                   math score\n",
              "4                reading score\n",
              "5                writing score"
            ]
          },
          "execution_count": 3,
          "metadata": {},
          "output_type": "execute_result"
        }
      ],
      "source": [
        "pd.DataFrame(labels)"
      ]
    },
    {
      "cell_type": "code",
      "execution_count": 4,
      "metadata": {
        "colab": {
          "base_uri": "https://localhost:8080/",
          "height": 1000
        },
        "id": "Id_a_DxtlpMu",
        "outputId": "c70586d6-335c-4dee-8dff-8bfca346868d"
      },
      "outputs": [
        {
          "data": {
            "text/html": [
              "<div>\n",
              "<style scoped>\n",
              "    .dataframe tbody tr th:only-of-type {\n",
              "        vertical-align: middle;\n",
              "    }\n",
              "\n",
              "    .dataframe tbody tr th {\n",
              "        vertical-align: top;\n",
              "    }\n",
              "\n",
              "    .dataframe thead th {\n",
              "        text-align: right;\n",
              "    }\n",
              "</style>\n",
              "<table border=\"1\" class=\"dataframe\">\n",
              "  <thead>\n",
              "    <tr style=\"text-align: right;\">\n",
              "      <th></th>\n",
              "      <th>gender</th>\n",
              "      <th>parental level of education</th>\n",
              "      <th>test preparation course</th>\n",
              "      <th>math score</th>\n",
              "      <th>reading score</th>\n",
              "      <th>writing score</th>\n",
              "    </tr>\n",
              "  </thead>\n",
              "  <tbody>\n",
              "    <tr>\n",
              "      <th>0</th>\n",
              "      <td>female</td>\n",
              "      <td>bachelor's degree</td>\n",
              "      <td>none</td>\n",
              "      <td>72</td>\n",
              "      <td>72</td>\n",
              "      <td>74</td>\n",
              "    </tr>\n",
              "    <tr>\n",
              "      <th>1</th>\n",
              "      <td>female</td>\n",
              "      <td>some college</td>\n",
              "      <td>completed</td>\n",
              "      <td>69</td>\n",
              "      <td>90</td>\n",
              "      <td>88</td>\n",
              "    </tr>\n",
              "    <tr>\n",
              "      <th>2</th>\n",
              "      <td>female</td>\n",
              "      <td>master's degree</td>\n",
              "      <td>none</td>\n",
              "      <td>90</td>\n",
              "      <td>95</td>\n",
              "      <td>93</td>\n",
              "    </tr>\n",
              "    <tr>\n",
              "      <th>3</th>\n",
              "      <td>male</td>\n",
              "      <td>associate's degree</td>\n",
              "      <td>none</td>\n",
              "      <td>47</td>\n",
              "      <td>57</td>\n",
              "      <td>44</td>\n",
              "    </tr>\n",
              "    <tr>\n",
              "      <th>4</th>\n",
              "      <td>male</td>\n",
              "      <td>some college</td>\n",
              "      <td>none</td>\n",
              "      <td>76</td>\n",
              "      <td>78</td>\n",
              "      <td>75</td>\n",
              "    </tr>\n",
              "    <tr>\n",
              "      <th>5</th>\n",
              "      <td>female</td>\n",
              "      <td>associate's degree</td>\n",
              "      <td>none</td>\n",
              "      <td>71</td>\n",
              "      <td>83</td>\n",
              "      <td>78</td>\n",
              "    </tr>\n",
              "    <tr>\n",
              "      <th>6</th>\n",
              "      <td>female</td>\n",
              "      <td>some college</td>\n",
              "      <td>completed</td>\n",
              "      <td>88</td>\n",
              "      <td>95</td>\n",
              "      <td>92</td>\n",
              "    </tr>\n",
              "    <tr>\n",
              "      <th>7</th>\n",
              "      <td>male</td>\n",
              "      <td>some college</td>\n",
              "      <td>none</td>\n",
              "      <td>40</td>\n",
              "      <td>43</td>\n",
              "      <td>39</td>\n",
              "    </tr>\n",
              "    <tr>\n",
              "      <th>8</th>\n",
              "      <td>male</td>\n",
              "      <td>high school</td>\n",
              "      <td>completed</td>\n",
              "      <td>64</td>\n",
              "      <td>64</td>\n",
              "      <td>67</td>\n",
              "    </tr>\n",
              "    <tr>\n",
              "      <th>9</th>\n",
              "      <td>female</td>\n",
              "      <td>high school</td>\n",
              "      <td>none</td>\n",
              "      <td>38</td>\n",
              "      <td>60</td>\n",
              "      <td>50</td>\n",
              "    </tr>\n",
              "    <tr>\n",
              "      <th>10</th>\n",
              "      <td>male</td>\n",
              "      <td>associate's degree</td>\n",
              "      <td>none</td>\n",
              "      <td>58</td>\n",
              "      <td>54</td>\n",
              "      <td>52</td>\n",
              "    </tr>\n",
              "    <tr>\n",
              "      <th>11</th>\n",
              "      <td>male</td>\n",
              "      <td>associate's degree</td>\n",
              "      <td>none</td>\n",
              "      <td>40</td>\n",
              "      <td>52</td>\n",
              "      <td>43</td>\n",
              "    </tr>\n",
              "    <tr>\n",
              "      <th>12</th>\n",
              "      <td>female</td>\n",
              "      <td>high school</td>\n",
              "      <td>none</td>\n",
              "      <td>65</td>\n",
              "      <td>81</td>\n",
              "      <td>73</td>\n",
              "    </tr>\n",
              "    <tr>\n",
              "      <th>13</th>\n",
              "      <td>male</td>\n",
              "      <td>some college</td>\n",
              "      <td>completed</td>\n",
              "      <td>78</td>\n",
              "      <td>72</td>\n",
              "      <td>70</td>\n",
              "    </tr>\n",
              "    <tr>\n",
              "      <th>14</th>\n",
              "      <td>female</td>\n",
              "      <td>master's degree</td>\n",
              "      <td>none</td>\n",
              "      <td>50</td>\n",
              "      <td>53</td>\n",
              "      <td>58</td>\n",
              "    </tr>\n",
              "    <tr>\n",
              "      <th>15</th>\n",
              "      <td>female</td>\n",
              "      <td>some high school</td>\n",
              "      <td>none</td>\n",
              "      <td>69</td>\n",
              "      <td>75</td>\n",
              "      <td>78</td>\n",
              "    </tr>\n",
              "    <tr>\n",
              "      <th>16</th>\n",
              "      <td>male</td>\n",
              "      <td>high school</td>\n",
              "      <td>none</td>\n",
              "      <td>88</td>\n",
              "      <td>89</td>\n",
              "      <td>86</td>\n",
              "    </tr>\n",
              "    <tr>\n",
              "      <th>17</th>\n",
              "      <td>female</td>\n",
              "      <td>some high school</td>\n",
              "      <td>none</td>\n",
              "      <td>18</td>\n",
              "      <td>32</td>\n",
              "      <td>28</td>\n",
              "    </tr>\n",
              "    <tr>\n",
              "      <th>18</th>\n",
              "      <td>male</td>\n",
              "      <td>master's degree</td>\n",
              "      <td>completed</td>\n",
              "      <td>46</td>\n",
              "      <td>42</td>\n",
              "      <td>46</td>\n",
              "    </tr>\n",
              "    <tr>\n",
              "      <th>19</th>\n",
              "      <td>female</td>\n",
              "      <td>associate's degree</td>\n",
              "      <td>none</td>\n",
              "      <td>54</td>\n",
              "      <td>58</td>\n",
              "      <td>61</td>\n",
              "    </tr>\n",
              "    <tr>\n",
              "      <th>20</th>\n",
              "      <td>male</td>\n",
              "      <td>high school</td>\n",
              "      <td>none</td>\n",
              "      <td>66</td>\n",
              "      <td>69</td>\n",
              "      <td>63</td>\n",
              "    </tr>\n",
              "    <tr>\n",
              "      <th>21</th>\n",
              "      <td>female</td>\n",
              "      <td>some college</td>\n",
              "      <td>completed</td>\n",
              "      <td>65</td>\n",
              "      <td>75</td>\n",
              "      <td>70</td>\n",
              "    </tr>\n",
              "    <tr>\n",
              "      <th>22</th>\n",
              "      <td>male</td>\n",
              "      <td>some college</td>\n",
              "      <td>none</td>\n",
              "      <td>44</td>\n",
              "      <td>54</td>\n",
              "      <td>53</td>\n",
              "    </tr>\n",
              "    <tr>\n",
              "      <th>23</th>\n",
              "      <td>female</td>\n",
              "      <td>some high school</td>\n",
              "      <td>none</td>\n",
              "      <td>69</td>\n",
              "      <td>73</td>\n",
              "      <td>73</td>\n",
              "    </tr>\n",
              "    <tr>\n",
              "      <th>24</th>\n",
              "      <td>male</td>\n",
              "      <td>bachelor's degree</td>\n",
              "      <td>completed</td>\n",
              "      <td>74</td>\n",
              "      <td>71</td>\n",
              "      <td>80</td>\n",
              "    </tr>\n",
              "    <tr>\n",
              "      <th>25</th>\n",
              "      <td>male</td>\n",
              "      <td>master's degree</td>\n",
              "      <td>none</td>\n",
              "      <td>73</td>\n",
              "      <td>74</td>\n",
              "      <td>72</td>\n",
              "    </tr>\n",
              "    <tr>\n",
              "      <th>26</th>\n",
              "      <td>male</td>\n",
              "      <td>some college</td>\n",
              "      <td>none</td>\n",
              "      <td>69</td>\n",
              "      <td>54</td>\n",
              "      <td>55</td>\n",
              "    </tr>\n",
              "    <tr>\n",
              "      <th>27</th>\n",
              "      <td>female</td>\n",
              "      <td>bachelor's degree</td>\n",
              "      <td>none</td>\n",
              "      <td>67</td>\n",
              "      <td>69</td>\n",
              "      <td>75</td>\n",
              "    </tr>\n",
              "    <tr>\n",
              "      <th>28</th>\n",
              "      <td>male</td>\n",
              "      <td>high school</td>\n",
              "      <td>none</td>\n",
              "      <td>70</td>\n",
              "      <td>70</td>\n",
              "      <td>65</td>\n",
              "    </tr>\n",
              "    <tr>\n",
              "      <th>29</th>\n",
              "      <td>female</td>\n",
              "      <td>master's degree</td>\n",
              "      <td>none</td>\n",
              "      <td>62</td>\n",
              "      <td>70</td>\n",
              "      <td>75</td>\n",
              "    </tr>\n",
              "    <tr>\n",
              "      <th>30</th>\n",
              "      <td>female</td>\n",
              "      <td>some college</td>\n",
              "      <td>none</td>\n",
              "      <td>69</td>\n",
              "      <td>74</td>\n",
              "      <td>74</td>\n",
              "    </tr>\n",
              "    <tr>\n",
              "      <th>31</th>\n",
              "      <td>female</td>\n",
              "      <td>some college</td>\n",
              "      <td>none</td>\n",
              "      <td>63</td>\n",
              "      <td>65</td>\n",
              "      <td>61</td>\n",
              "    </tr>\n",
              "    <tr>\n",
              "      <th>32</th>\n",
              "      <td>female</td>\n",
              "      <td>master's degree</td>\n",
              "      <td>none</td>\n",
              "      <td>56</td>\n",
              "      <td>72</td>\n",
              "      <td>65</td>\n",
              "    </tr>\n",
              "    <tr>\n",
              "      <th>33</th>\n",
              "      <td>male</td>\n",
              "      <td>some college</td>\n",
              "      <td>none</td>\n",
              "      <td>40</td>\n",
              "      <td>42</td>\n",
              "      <td>38</td>\n",
              "    </tr>\n",
              "    <tr>\n",
              "      <th>34</th>\n",
              "      <td>male</td>\n",
              "      <td>some college</td>\n",
              "      <td>none</td>\n",
              "      <td>97</td>\n",
              "      <td>87</td>\n",
              "      <td>82</td>\n",
              "    </tr>\n",
              "    <tr>\n",
              "      <th>35</th>\n",
              "      <td>male</td>\n",
              "      <td>associate's degree</td>\n",
              "      <td>completed</td>\n",
              "      <td>81</td>\n",
              "      <td>81</td>\n",
              "      <td>79</td>\n",
              "    </tr>\n",
              "    <tr>\n",
              "      <th>36</th>\n",
              "      <td>female</td>\n",
              "      <td>associate's degree</td>\n",
              "      <td>none</td>\n",
              "      <td>74</td>\n",
              "      <td>81</td>\n",
              "      <td>83</td>\n",
              "    </tr>\n",
              "    <tr>\n",
              "      <th>37</th>\n",
              "      <td>female</td>\n",
              "      <td>some high school</td>\n",
              "      <td>none</td>\n",
              "      <td>50</td>\n",
              "      <td>64</td>\n",
              "      <td>59</td>\n",
              "    </tr>\n",
              "    <tr>\n",
              "      <th>38</th>\n",
              "      <td>female</td>\n",
              "      <td>associate's degree</td>\n",
              "      <td>completed</td>\n",
              "      <td>75</td>\n",
              "      <td>90</td>\n",
              "      <td>88</td>\n",
              "    </tr>\n",
              "  </tbody>\n",
              "</table>\n",
              "</div>"
            ],
            "text/plain": [
              "    gender parental level of education test preparation course math score  \\\n",
              "0   female           bachelor's degree                    none         72   \n",
              "1   female                some college               completed         69   \n",
              "2   female             master's degree                    none         90   \n",
              "3     male          associate's degree                    none         47   \n",
              "4     male                some college                    none         76   \n",
              "5   female          associate's degree                    none         71   \n",
              "6   female                some college               completed         88   \n",
              "7     male                some college                    none         40   \n",
              "8     male                 high school               completed         64   \n",
              "9   female                 high school                    none         38   \n",
              "10    male          associate's degree                    none         58   \n",
              "11    male          associate's degree                    none         40   \n",
              "12  female                 high school                    none         65   \n",
              "13    male                some college               completed         78   \n",
              "14  female             master's degree                    none         50   \n",
              "15  female            some high school                    none         69   \n",
              "16    male                 high school                    none         88   \n",
              "17  female            some high school                    none         18   \n",
              "18    male             master's degree               completed         46   \n",
              "19  female          associate's degree                    none         54   \n",
              "20    male                 high school                    none         66   \n",
              "21  female                some college               completed         65   \n",
              "22    male                some college                    none         44   \n",
              "23  female            some high school                    none         69   \n",
              "24    male           bachelor's degree               completed         74   \n",
              "25    male             master's degree                    none         73   \n",
              "26    male                some college                    none         69   \n",
              "27  female           bachelor's degree                    none         67   \n",
              "28    male                 high school                    none         70   \n",
              "29  female             master's degree                    none         62   \n",
              "30  female                some college                    none         69   \n",
              "31  female                some college                    none         63   \n",
              "32  female             master's degree                    none         56   \n",
              "33    male                some college                    none         40   \n",
              "34    male                some college                    none         97   \n",
              "35    male          associate's degree               completed         81   \n",
              "36  female          associate's degree                    none         74   \n",
              "37  female            some high school                    none         50   \n",
              "38  female          associate's degree               completed         75   \n",
              "\n",
              "   reading score writing score  \n",
              "0             72            74  \n",
              "1             90            88  \n",
              "2             95            93  \n",
              "3             57            44  \n",
              "4             78            75  \n",
              "5             83            78  \n",
              "6             95            92  \n",
              "7             43            39  \n",
              "8             64            67  \n",
              "9             60            50  \n",
              "10            54            52  \n",
              "11            52            43  \n",
              "12            81            73  \n",
              "13            72            70  \n",
              "14            53            58  \n",
              "15            75            78  \n",
              "16            89            86  \n",
              "17            32            28  \n",
              "18            42            46  \n",
              "19            58            61  \n",
              "20            69            63  \n",
              "21            75            70  \n",
              "22            54            53  \n",
              "23            73            73  \n",
              "24            71            80  \n",
              "25            74            72  \n",
              "26            54            55  \n",
              "27            69            75  \n",
              "28            70            65  \n",
              "29            70            75  \n",
              "30            74            74  \n",
              "31            65            61  \n",
              "32            72            65  \n",
              "33            42            38  \n",
              "34            87            82  \n",
              "35            81            79  \n",
              "36            81            83  \n",
              "37            64            59  \n",
              "38            90            88  "
            ]
          },
          "execution_count": 4,
          "metadata": {},
          "output_type": "execute_result"
        }
      ],
      "source": [
        "list_data = pd.DataFrame(data)\n",
        "list_data.columns = labels\n",
        "list_data"
      ]
    },
    {
      "cell_type": "markdown",
      "metadata": {
        "id": "iCbpogcelpMw"
      },
      "source": [
        "### Check weather female performs good or male studentds."
      ]
    },
    {
      "cell_type": "code",
      "execution_count": 5,
      "metadata": {
        "colab": {
          "base_uri": "https://localhost:8080/"
        },
        "id": "LlmSg1y2lpM1",
        "outputId": "faea0ecb-9a7b-40c3-bb2b-5699e678ba54"
      },
      "outputs": [
        {
          "name": "stdout",
          "output_type": "stream",
          "text": [
            "**********\n",
            "**********\n",
            "**********\n",
            "Subject : Math\n",
            "Total Students = 39\n",
            "Female Students = 21\n",
            "Commulative score of female students = 1334\n",
            "Average score of female students = 63.523809523809526\n",
            "Male Students = 18\n",
            "Commulative score of male students = 1151\n",
            "Average score of male students = 63.94444444444444\n",
            "Male students in Math performed better as comapred to female students\n",
            "**********\n",
            "**********\n",
            "**********\n",
            "Subject : Reading\n",
            "Total Students = 39\n",
            "Female Students = 21\n",
            "Commulative score of female students = 1527\n",
            "Average score of female students = 72.71428571428571\n",
            "Male Students = 18\n",
            "Commulative score of male students = 1153\n",
            "Average score of male students = 64.05555555555556\n",
            "Female students in Reading performed better as comapred to male students\n",
            "**********\n",
            "**********\n",
            "**********\n",
            "Subject : Writing\n",
            "Total Students = 39\n",
            "Female Students = 21\n",
            "Commulative score of female students = 1496\n",
            "Average score of female students = 71.23809523809524\n",
            "Male Students = 18\n",
            "Commulative score of male students = 1109\n",
            "Average score of male students = 61.611111111111114\n",
            "Female students in Writing performed better as comapred to male students\n"
          ]
        }
      ],
      "source": [
        "bestPerformers = []\n",
        "subjects = []\n",
        "for score_column in [3,4,5]:\n",
        "    male_students = 0\n",
        "    female_students = 0\n",
        "    male_score_sum = 0\n",
        "    female_score_sum = 0\n",
        "    for innerList in data:\n",
        "        if innerList[0] == \"female\":\n",
        "            female_students = female_students + 1\n",
        "            female_score_sum = female_score_sum + int(innerList[score_column])\n",
        "        else:\n",
        "            male_students = male_students +1\n",
        "            male_score_sum = male_score_sum + int(innerList[score_column])\n",
        "    print(\"**********\")\n",
        "    print(\"**********\")\n",
        "    print(\"**********\")\n",
        "    print(f\"Subject : {(labels[score_column]).split(' ')[0].capitalize()}\")\n",
        "    print(f\"Total Students = {male_students+female_students}\")\n",
        "    print(f\"Female Students = {female_students}\")\n",
        "    print(f\"Commulative score of female students = {female_score_sum}\")\n",
        "    print(f\"Average score of female students = {female_score_sum/female_students}\")\n",
        "    print(f\"Male Students = {male_students}\")\n",
        "    print(f\"Commulative score of male students = {male_score_sum}\")\n",
        "    print(f\"Average score of male students = {male_score_sum/male_students}\")\n",
        "    if female_score_sum/female_students < male_score_sum/male_students:\n",
        "        print(f\"Male students in {(labels[score_column]).split(' ')[0].capitalize()} performed better as comapred to female students\")\n",
        "        bestPerformers.append(\"Male\")\n",
        "        subjects.append((labels[score_column]).split(' ')[0].capitalize())\n",
        "    elif female_score_sum/female_students > male_score_sum/male_students:\n",
        "        print(f\"Female students in {(labels[score_column]).split(' ')[0].capitalize()} performed better as comapred to male students\")\n",
        "        bestPerformers.append(\"Female\")\n",
        "        subjects.append((labels[score_column]).split(' ')[0].capitalize())\n",
        "    else:\n",
        "        print(f\"Both male and female students in {(labels[score_column]).split(' ')[0].capitalize()} performed equaly\")\n",
        "        bestPerformers.append(\"NA\")\n",
        "        subjects.append((labels[score_column]).split(' ')[0].capitalize())"
      ]
    },
    {
      "cell_type": "code",
      "execution_count": 6,
      "metadata": {
        "colab": {
          "base_uri": "https://localhost:8080/",
          "height": 143
        },
        "id": "u1t0q6ielpM3",
        "outputId": "865b6213-e023-4f96-c4f7-55856c9da4f6"
      },
      "outputs": [
        {
          "data": {
            "text/html": [
              "<div>\n",
              "<style scoped>\n",
              "    .dataframe tbody tr th:only-of-type {\n",
              "        vertical-align: middle;\n",
              "    }\n",
              "\n",
              "    .dataframe tbody tr th {\n",
              "        vertical-align: top;\n",
              "    }\n",
              "\n",
              "    .dataframe thead th {\n",
              "        text-align: right;\n",
              "    }\n",
              "</style>\n",
              "<table border=\"1\" class=\"dataframe\">\n",
              "  <thead>\n",
              "    <tr style=\"text-align: right;\">\n",
              "      <th></th>\n",
              "      <th>Best Performer in repective test</th>\n",
              "    </tr>\n",
              "  </thead>\n",
              "  <tbody>\n",
              "    <tr>\n",
              "      <th>Math</th>\n",
              "      <td>Male</td>\n",
              "    </tr>\n",
              "    <tr>\n",
              "      <th>Reading</th>\n",
              "      <td>Female</td>\n",
              "    </tr>\n",
              "    <tr>\n",
              "      <th>Writing</th>\n",
              "      <td>Female</td>\n",
              "    </tr>\n",
              "  </tbody>\n",
              "</table>\n",
              "</div>"
            ],
            "text/plain": [
              "        Best Performer in repective test\n",
              "Math                                Male\n",
              "Reading                           Female\n",
              "Writing                           Female"
            ]
          },
          "execution_count": 6,
          "metadata": {},
          "output_type": "execute_result"
        }
      ],
      "source": [
        "q1Answer = pd.DataFrame(bestPerformers,index=subjects)\n",
        "q1Answer.columns=[\"Best Performer in repective test\"]\n",
        "q1Answer"
      ]
    },
    {
      "cell_type": "markdown",
      "metadata": {
        "id": "2351onawlpM8"
      },
      "source": [
        "### Is there any difference in student score if parents have master-level education in specified score"
      ]
    },
    {
      "cell_type": "code",
      "execution_count": 7,
      "metadata": {
        "colab": {
          "base_uri": "https://localhost:8080/",
          "height": 238
        },
        "id": "hKAbAXutlpM_",
        "outputId": "18693417-50b8-4876-f94c-2f0c17c0b8f9"
      },
      "outputs": [
        {
          "data": {
            "text/html": [
              "<div>\n",
              "<style scoped>\n",
              "    .dataframe tbody tr th:only-of-type {\n",
              "        vertical-align: middle;\n",
              "    }\n",
              "\n",
              "    .dataframe tbody tr th {\n",
              "        vertical-align: top;\n",
              "    }\n",
              "\n",
              "    .dataframe thead th {\n",
              "        text-align: right;\n",
              "    }\n",
              "</style>\n",
              "<table border=\"1\" class=\"dataframe\">\n",
              "  <thead>\n",
              "    <tr style=\"text-align: right;\">\n",
              "      <th></th>\n",
              "      <th>Level of educations parents have</th>\n",
              "    </tr>\n",
              "  </thead>\n",
              "  <tbody>\n",
              "    <tr>\n",
              "      <th>0</th>\n",
              "      <td>some college</td>\n",
              "    </tr>\n",
              "    <tr>\n",
              "      <th>1</th>\n",
              "      <td>some high school</td>\n",
              "    </tr>\n",
              "    <tr>\n",
              "      <th>2</th>\n",
              "      <td>bachelor's degree</td>\n",
              "    </tr>\n",
              "    <tr>\n",
              "      <th>3</th>\n",
              "      <td>associate's degree</td>\n",
              "    </tr>\n",
              "    <tr>\n",
              "      <th>4</th>\n",
              "      <td>high school</td>\n",
              "    </tr>\n",
              "    <tr>\n",
              "      <th>5</th>\n",
              "      <td>master's degree</td>\n",
              "    </tr>\n",
              "  </tbody>\n",
              "</table>\n",
              "</div>"
            ],
            "text/plain": [
              "  Level of educations parents have\n",
              "0                     some college\n",
              "1                 some high school\n",
              "2                bachelor's degree\n",
              "3               associate's degree\n",
              "4                      high school\n",
              "5                  master's degree"
            ]
          },
          "execution_count": 7,
          "metadata": {},
          "output_type": "execute_result"
        }
      ],
      "source": [
        "parents_education = []\n",
        "for innerList in data:\n",
        "    parents_education.append(innerList[1])\n",
        "temp_data = set(parents_education)\n",
        "temp_data = pd.DataFrame(temp_data)\n",
        "temp_data.columns=[\"Level of educations parents have\"]\n",
        "temp_data\n"
      ]
    },
    {
      "cell_type": "code",
      "execution_count": 8,
      "metadata": {
        "colab": {
          "base_uri": "https://localhost:8080/"
        },
        "id": "w2oifwTplpNF",
        "outputId": "61722e71-3ffe-4875-9e27-ad5ff6734e97"
      },
      "outputs": [
        {
          "name": "stdout",
          "output_type": "stream",
          "text": [
            "**********\n",
            "**********\n",
            "**********\n",
            "Subject : Math\n",
            "Total Students = 39\n",
            "Students who's parents have a master degree = 6\n",
            "Commulative score of students who's parents have a master degree = 377\n",
            "Average score of students who's parents have a master degree = 62.833333333333336\n",
            "Students who's parents don't have a master degree = 33\n",
            "Commulative score of students who's parents don't have a master degree = 2108\n",
            "Average score of students who's parents don't have a master degree = 63.878787878787875\n",
            "In Math those students who's parents don't have a master's degree performed better as comapred to other students\n",
            "**********\n",
            "**********\n",
            "**********\n",
            "Subject : Reading\n",
            "Total Students = 39\n",
            "Students who's parents have a master degree = 6\n",
            "Commulative score of students who's parents have a master degree = 406\n",
            "Average score of students who's parents have a master degree = 67.66666666666667\n",
            "Students who's parents don't have a master degree = 33\n",
            "Commulative score of students who's parents don't have a master degree = 2274\n",
            "Average score of students who's parents don't have a master degree = 68.9090909090909\n",
            "In Reading those students who's parents don't have a master's degree performed better as comapred to other students\n",
            "**********\n",
            "**********\n",
            "**********\n",
            "Subject : Writing\n",
            "Total Students = 39\n",
            "Students who's parents have a master degree = 6\n",
            "Commulative score of students who's parents have a master degree = 409\n",
            "Average score of students who's parents have a master degree = 68.16666666666667\n",
            "Students who's parents don't have a master degree = 33\n",
            "Commulative score of students who's parents don't have a master degree = 2196\n",
            "Average score of students who's parents don't have a master degree = 66.54545454545455\n",
            "In Writing those students who's parents have a master's degree performed better as comapred to other students\n"
          ]
        }
      ],
      "source": [
        "parents_based_performance = []\n",
        "subjects = []\n",
        "for score_column in [3,4,5]:\n",
        "    students_parents_with_master = 0\n",
        "    students_parents_without_master = 0\n",
        "    students_parents_with_master_score_sum = 0\n",
        "    students_parents_without_master_score_sum = 0\n",
        "    for innerList in data:\n",
        "        if innerList[1] == \"master's degree\":\n",
        "            students_parents_with_master +=1\n",
        "            students_parents_with_master_score_sum += int(innerList[score_column])\n",
        "\n",
        "        else:\n",
        "            students_parents_without_master += 1\n",
        "            students_parents_without_master_score_sum += int(innerList[score_column])\n",
        "    print(\"**********\")\n",
        "    print(\"**********\")\n",
        "    print(\"**********\")\n",
        "    print(f\"Subject : {(labels[score_column]).split(' ')[0].capitalize()}\")\n",
        "    print(f\"Total Students = {students_parents_with_master+students_parents_without_master}\")\n",
        "    print(f\"Students who's parents have a master degree = {students_parents_with_master}\")\n",
        "    print(f\"Commulative score of students who's parents have a master degree = {students_parents_with_master_score_sum}\")\n",
        "    print(f\"Average score of students who's parents have a master degree = {students_parents_with_master_score_sum/students_parents_with_master}\")\n",
        "    print(f\"Students who's parents don't have a master degree = {students_parents_without_master}\")\n",
        "    print(f\"Commulative score of students who's parents don't have a master degree = {students_parents_without_master_score_sum}\")\n",
        "    print(f\"Average score of students who's parents don't have a master degree = {students_parents_without_master_score_sum/students_parents_without_master}\")\n",
        "    if students_parents_with_master_score_sum/students_parents_with_master > students_parents_without_master_score_sum/students_parents_without_master:\n",
        "        print(f\"In {(labels[score_column]).split(' ')[0].capitalize()} those students who's parents have a master's degree performed better as comapred to other students\")\n",
        "        parents_based_performance.append(\"Yes\")\n",
        "        subjects.append((labels[score_column]).split(' ')[0].capitalize())\n",
        "    elif students_parents_with_master_score_sum/students_parents_with_master < students_parents_without_master_score_sum/students_parents_without_master:\n",
        "        print(f\"In {(labels[score_column]).split(' ')[0].capitalize()} those students who's parents don't have a master's degree performed better as comapred to other students\")\n",
        "        parents_based_performance.append(\"No\")\n",
        "        subjects.append((labels[score_column]).split(' ')[0].capitalize())\n",
        "    else:\n",
        "        print(f\"All students in {(labels[score_column]).split(' ')[0].capitalize()} performed equaly irrespective of their parent's education\")\n",
        "        parents_based_performance.append(\"NA\")\n",
        "        subjects.append((labels[score_column]).split(' ')[0].capitalize())\n"
      ]
    },
    {
      "cell_type": "code",
      "execution_count": 9,
      "metadata": {
        "colab": {
          "base_uri": "https://localhost:8080/",
          "height": 143
        },
        "id": "iYFc1nJklpNL",
        "outputId": "d5894279-e535-402c-da58-c6316754998f"
      },
      "outputs": [
        {
          "data": {
            "text/html": [
              "<div>\n",
              "<style scoped>\n",
              "    .dataframe tbody tr th:only-of-type {\n",
              "        vertical-align: middle;\n",
              "    }\n",
              "\n",
              "    .dataframe tbody tr th {\n",
              "        vertical-align: top;\n",
              "    }\n",
              "\n",
              "    .dataframe thead th {\n",
              "        text-align: right;\n",
              "    }\n",
              "</style>\n",
              "<table border=\"1\" class=\"dataframe\">\n",
              "  <thead>\n",
              "    <tr style=\"text-align: right;\">\n",
              "      <th></th>\n",
              "      <th>Students having parent's with master's degree performed batter</th>\n",
              "    </tr>\n",
              "  </thead>\n",
              "  <tbody>\n",
              "    <tr>\n",
              "      <th>Math</th>\n",
              "      <td>No</td>\n",
              "    </tr>\n",
              "    <tr>\n",
              "      <th>Reading</th>\n",
              "      <td>No</td>\n",
              "    </tr>\n",
              "    <tr>\n",
              "      <th>Writing</th>\n",
              "      <td>Yes</td>\n",
              "    </tr>\n",
              "  </tbody>\n",
              "</table>\n",
              "</div>"
            ],
            "text/plain": [
              "        Students having parent's with master's degree performed batter\n",
              "Math                                                    No            \n",
              "Reading                                                 No            \n",
              "Writing                                                Yes            "
            ]
          },
          "execution_count": 9,
          "metadata": {},
          "output_type": "execute_result"
        }
      ],
      "source": [
        "q2Answer = pd.DataFrame(parents_based_performance,index=subjects)\n",
        "q2Answer.columns=[\"Students having parent's with master's degree performed batter\"]\n",
        "q2Answer"
      ]
    },
    {
      "cell_type": "markdown",
      "metadata": {
        "id": "LhrMOfE3lpNO"
      },
      "source": [
        "### Is there any difference in student score if parents have bachler-level education in specified score"
      ]
    },
    {
      "cell_type": "code",
      "execution_count": 10,
      "metadata": {
        "colab": {
          "base_uri": "https://localhost:8080/",
          "height": 238
        },
        "id": "nIF6S1nllpNR",
        "outputId": "6da18e25-31ac-4a98-b176-0a193e78fe84"
      },
      "outputs": [
        {
          "data": {
            "text/html": [
              "<div>\n",
              "<style scoped>\n",
              "    .dataframe tbody tr th:only-of-type {\n",
              "        vertical-align: middle;\n",
              "    }\n",
              "\n",
              "    .dataframe tbody tr th {\n",
              "        vertical-align: top;\n",
              "    }\n",
              "\n",
              "    .dataframe thead th {\n",
              "        text-align: right;\n",
              "    }\n",
              "</style>\n",
              "<table border=\"1\" class=\"dataframe\">\n",
              "  <thead>\n",
              "    <tr style=\"text-align: right;\">\n",
              "      <th></th>\n",
              "      <th>Level of educations parents have</th>\n",
              "    </tr>\n",
              "  </thead>\n",
              "  <tbody>\n",
              "    <tr>\n",
              "      <th>0</th>\n",
              "      <td>some college</td>\n",
              "    </tr>\n",
              "    <tr>\n",
              "      <th>1</th>\n",
              "      <td>some high school</td>\n",
              "    </tr>\n",
              "    <tr>\n",
              "      <th>2</th>\n",
              "      <td>bachelor's degree</td>\n",
              "    </tr>\n",
              "    <tr>\n",
              "      <th>3</th>\n",
              "      <td>associate's degree</td>\n",
              "    </tr>\n",
              "    <tr>\n",
              "      <th>4</th>\n",
              "      <td>high school</td>\n",
              "    </tr>\n",
              "    <tr>\n",
              "      <th>5</th>\n",
              "      <td>master's degree</td>\n",
              "    </tr>\n",
              "  </tbody>\n",
              "</table>\n",
              "</div>"
            ],
            "text/plain": [
              "  Level of educations parents have\n",
              "0                     some college\n",
              "1                 some high school\n",
              "2                bachelor's degree\n",
              "3               associate's degree\n",
              "4                      high school\n",
              "5                  master's degree"
            ]
          },
          "execution_count": 10,
          "metadata": {},
          "output_type": "execute_result"
        }
      ],
      "source": [
        "temp_data"
      ]
    },
    {
      "cell_type": "code",
      "execution_count": 11,
      "metadata": {
        "colab": {
          "base_uri": "https://localhost:8080/"
        },
        "id": "HjB8P0vIlpNS",
        "outputId": "4af7ea0e-6bef-43a2-ca5f-f965bd04ef66"
      },
      "outputs": [
        {
          "name": "stdout",
          "output_type": "stream",
          "text": [
            "**********\n",
            "**********\n",
            "**********\n",
            "Subject : Math\n",
            "Total Students = 39\n",
            "Students who's parents have a bachelor degree = 3\n",
            "Commulative score of students who's parents have a bachelor degree = 213\n",
            "Average score of students who's parents have a bachelor degree = 71.0\n",
            "Students who's parents don't have a bachelor degree = 36\n",
            "Commulative score of students who's parents don't have a bachelor degree = 2272\n",
            "Average score of students who's parents don't have a bachelor degree = 63.111111111111114\n",
            "In Math those students who's parents have a bachelor's degree performed better as comapred to other students\n",
            "**********\n",
            "**********\n",
            "**********\n",
            "Subject : Reading\n",
            "Total Students = 39\n",
            "Students who's parents have a bachelor degree = 3\n",
            "Commulative score of students who's parents have a bachelor degree = 212\n",
            "Average score of students who's parents have a bachelor degree = 70.66666666666667\n",
            "Students who's parents don't have a bachelor degree = 36\n",
            "Commulative score of students who's parents don't have a bachelor degree = 2468\n",
            "Average score of students who's parents don't have a bachelor degree = 68.55555555555556\n",
            "In Reading those students who's parents have a bachelor's degree performed better as comapred to other students\n",
            "**********\n",
            "**********\n",
            "**********\n",
            "Subject : Writing\n",
            "Total Students = 39\n",
            "Students who's parents have a bachelor degree = 3\n",
            "Commulative score of students who's parents have a bachelor degree = 229\n",
            "Average score of students who's parents have a bachelor degree = 76.33333333333333\n",
            "Students who's parents don't have a bachelor degree = 36\n",
            "Commulative score of students who's parents don't have a bachelor degree = 2376\n",
            "Average score of students who's parents don't have a bachelor degree = 66.0\n",
            "In Writing those students who's parents have a bachelor's degree performed better as comapred to other students\n"
          ]
        }
      ],
      "source": [
        "parents_based_performance = []\n",
        "subjects = []\n",
        "for score_column in [3,4,5]:\n",
        "    students_parents_with_bachelor = 0\n",
        "    students_parents_without_bachelor = 0\n",
        "    students_parents_with_bachelor_score_sum = 0\n",
        "    students_parents_without_bachelor_score_sum = 0\n",
        "    for innerList in data:\n",
        "        if innerList[1] == \"bachelor's degree\":\n",
        "            students_parents_with_bachelor +=1\n",
        "            students_parents_with_bachelor_score_sum += int(innerList[score_column])\n",
        "\n",
        "        else:\n",
        "            students_parents_without_bachelor += 1\n",
        "            students_parents_without_bachelor_score_sum += int(innerList[score_column])\n",
        "    print(\"**********\")\n",
        "    print(\"**********\")\n",
        "    print(\"**********\")\n",
        "    print(f\"Subject : {(labels[score_column]).split(' ')[0].capitalize()}\")\n",
        "    print(f\"Total Students = {students_parents_with_bachelor+students_parents_without_bachelor}\")\n",
        "    print(f\"Students who's parents have a bachelor degree = {students_parents_with_bachelor}\")\n",
        "    print(f\"Commulative score of students who's parents have a bachelor degree = {students_parents_with_bachelor_score_sum}\")\n",
        "    print(f\"Average score of students who's parents have a bachelor degree = {students_parents_with_bachelor_score_sum/students_parents_with_bachelor}\")\n",
        "    print(f\"Students who's parents don't have a bachelor degree = {students_parents_without_bachelor}\")\n",
        "    print(f\"Commulative score of students who's parents don't have a bachelor degree = {students_parents_without_bachelor_score_sum}\")\n",
        "    print(f\"Average score of students who's parents don't have a bachelor degree = {students_parents_without_bachelor_score_sum/students_parents_without_bachelor}\")\n",
        "    if students_parents_with_bachelor_score_sum/students_parents_with_bachelor > students_parents_without_bachelor_score_sum/students_parents_without_bachelor:\n",
        "        print(f\"In {(labels[score_column]).split(' ')[0].capitalize()} those students who's parents have a bachelor's degree performed better as comapred to other students\")\n",
        "        parents_based_performance.append(\"Yes\")\n",
        "        subjects.append((labels[score_column]).split(' ')[0].capitalize())\n",
        "    elif students_parents_with_bachelor_score_sum/students_parents_with_bachelor < students_parents_without_bachelor_score_sum/students_parents_without_bachelor:\n",
        "        print(f\"In {(labels[score_column]).split(' ')[0].capitalize()} those students who's parents don't have a bachelor's degree performed better as comapred to other students\")\n",
        "        parents_based_performance.append(\"No\")\n",
        "        subjects.append((labels[score_column]).split(' ')[0].capitalize())\n",
        "    else:\n",
        "        print(f\"All students in {(labels[score_column]).split(' ')[0].capitalize()} performed equaly irrespective of their parent's education\")\n",
        "        parents_based_performance.append(\"NA\")\n",
        "        subjects.append((labels[score_column]).split(' ')[0].capitalize())\n"
      ]
    },
    {
      "cell_type": "code",
      "execution_count": 12,
      "metadata": {
        "colab": {
          "base_uri": "https://localhost:8080/",
          "height": 143
        },
        "id": "bYPADpEOlpNV",
        "outputId": "2f08d438-8904-487b-c04c-3127fa88c453"
      },
      "outputs": [
        {
          "data": {
            "text/html": [
              "<div>\n",
              "<style scoped>\n",
              "    .dataframe tbody tr th:only-of-type {\n",
              "        vertical-align: middle;\n",
              "    }\n",
              "\n",
              "    .dataframe tbody tr th {\n",
              "        vertical-align: top;\n",
              "    }\n",
              "\n",
              "    .dataframe thead th {\n",
              "        text-align: right;\n",
              "    }\n",
              "</style>\n",
              "<table border=\"1\" class=\"dataframe\">\n",
              "  <thead>\n",
              "    <tr style=\"text-align: right;\">\n",
              "      <th></th>\n",
              "      <th>Students having parent's with bachelor's degree performed batter</th>\n",
              "    </tr>\n",
              "  </thead>\n",
              "  <tbody>\n",
              "    <tr>\n",
              "      <th>Math</th>\n",
              "      <td>Yes</td>\n",
              "    </tr>\n",
              "    <tr>\n",
              "      <th>Reading</th>\n",
              "      <td>Yes</td>\n",
              "    </tr>\n",
              "    <tr>\n",
              "      <th>Writing</th>\n",
              "      <td>Yes</td>\n",
              "    </tr>\n",
              "  </tbody>\n",
              "</table>\n",
              "</div>"
            ],
            "text/plain": [
              "        Students having parent's with bachelor's degree performed batter\n",
              "Math                                                   Yes              \n",
              "Reading                                                Yes              \n",
              "Writing                                                Yes              "
            ]
          },
          "execution_count": 12,
          "metadata": {},
          "output_type": "execute_result"
        }
      ],
      "source": [
        "q3Answer = pd.DataFrame(parents_based_performance,index=subjects)\n",
        "q3Answer.columns=[\"Students having parent's with bachelor's degree performed batter\"]\n",
        "q3Answer"
      ]
    },
    {
      "cell_type": "markdown",
      "metadata": {
        "id": "Nh7AhmaMlpNY"
      },
      "source": [
        "### How many Parents have bachelors education, master education, or some college degrees level education"
      ]
    },
    {
      "cell_type": "code",
      "execution_count": 13,
      "metadata": {
        "colab": {
          "base_uri": "https://localhost:8080/",
          "height": 238
        },
        "id": "GI6mPyexlpNc",
        "outputId": "34bc9a61-5751-428c-8435-4667be78675b"
      },
      "outputs": [
        {
          "data": {
            "text/html": [
              "<div>\n",
              "<style scoped>\n",
              "    .dataframe tbody tr th:only-of-type {\n",
              "        vertical-align: middle;\n",
              "    }\n",
              "\n",
              "    .dataframe tbody tr th {\n",
              "        vertical-align: top;\n",
              "    }\n",
              "\n",
              "    .dataframe thead th {\n",
              "        text-align: right;\n",
              "    }\n",
              "</style>\n",
              "<table border=\"1\" class=\"dataframe\">\n",
              "  <thead>\n",
              "    <tr style=\"text-align: right;\">\n",
              "      <th></th>\n",
              "      <th>Level of educations parents have</th>\n",
              "    </tr>\n",
              "  </thead>\n",
              "  <tbody>\n",
              "    <tr>\n",
              "      <th>0</th>\n",
              "      <td>some college</td>\n",
              "    </tr>\n",
              "    <tr>\n",
              "      <th>1</th>\n",
              "      <td>some high school</td>\n",
              "    </tr>\n",
              "    <tr>\n",
              "      <th>2</th>\n",
              "      <td>bachelor's degree</td>\n",
              "    </tr>\n",
              "    <tr>\n",
              "      <th>3</th>\n",
              "      <td>associate's degree</td>\n",
              "    </tr>\n",
              "    <tr>\n",
              "      <th>4</th>\n",
              "      <td>high school</td>\n",
              "    </tr>\n",
              "    <tr>\n",
              "      <th>5</th>\n",
              "      <td>master's degree</td>\n",
              "    </tr>\n",
              "  </tbody>\n",
              "</table>\n",
              "</div>"
            ],
            "text/plain": [
              "  Level of educations parents have\n",
              "0                     some college\n",
              "1                 some high school\n",
              "2                bachelor's degree\n",
              "3               associate's degree\n",
              "4                      high school\n",
              "5                  master's degree"
            ]
          },
          "execution_count": 13,
          "metadata": {},
          "output_type": "execute_result"
        }
      ],
      "source": [
        "temp_data"
      ]
    },
    {
      "cell_type": "code",
      "execution_count": 14,
      "metadata": {
        "colab": {
          "base_uri": "https://localhost:8080/"
        },
        "id": "bMcyDYA8lpNd",
        "outputId": "4d34035f-f625-4bac-f763-86ccbeecf5e2"
      },
      "outputs": [
        {
          "name": "stdout",
          "output_type": "stream",
          "text": [
            "3 number of parents have bachelors level degree\n",
            "6 number of parents have masters level degree\n",
            "12 number of parents have some college level degree\n",
            "18 number of parents have some other level of education\n"
          ]
        }
      ],
      "source": [
        "parents_education_list = []\n",
        "for innerList in data:\n",
        "    parents_education_list.append(innerList[labels.index(\"parental level of education\")])\n",
        "no_bachelors= 0\n",
        "no_college = 0\n",
        "no_master = 0\n",
        "no_other = 0\n",
        "for i in parents_education_list:\n",
        "    if i == \"bachelor's degree\":\n",
        "        no_bachelors += 1\n",
        "    elif i == \"some college\":\n",
        "        no_college += 1\n",
        "    elif i == \"master's degree\":\n",
        "        no_master += 1\n",
        "    else:\n",
        "        no_other += 1\n",
        "print(f\"{no_bachelors} number of parents have bachelors level degree\" )\n",
        "print(f\"{no_master} number of parents have masters level degree\" )\n",
        "print(f\"{no_college} number of parents have some college level degree\" )\n",
        "print(f\"{no_other} number of parents have some other level of education\")"
      ]
    },
    {
      "cell_type": "code",
      "execution_count": 15,
      "metadata": {
        "colab": {
          "base_uri": "https://localhost:8080/",
          "height": 175
        },
        "id": "j-J9eXw6lpNf",
        "outputId": "14680c3f-3615-44ca-c4d0-c25fe52fdebb"
      },
      "outputs": [
        {
          "data": {
            "text/html": [
              "<div>\n",
              "<style scoped>\n",
              "    .dataframe tbody tr th:only-of-type {\n",
              "        vertical-align: middle;\n",
              "    }\n",
              "\n",
              "    .dataframe tbody tr th {\n",
              "        vertical-align: top;\n",
              "    }\n",
              "\n",
              "    .dataframe thead th {\n",
              "        text-align: right;\n",
              "    }\n",
              "</style>\n",
              "<table border=\"1\" class=\"dataframe\">\n",
              "  <thead>\n",
              "    <tr style=\"text-align: right;\">\n",
              "      <th></th>\n",
              "      <th>Number of parents with specified education</th>\n",
              "    </tr>\n",
              "  </thead>\n",
              "  <tbody>\n",
              "    <tr>\n",
              "      <th>Bachelor's degree</th>\n",
              "      <td>3</td>\n",
              "    </tr>\n",
              "    <tr>\n",
              "      <th>Masters's degree</th>\n",
              "      <td>6</td>\n",
              "    </tr>\n",
              "    <tr>\n",
              "      <th>Some College level</th>\n",
              "      <td>12</td>\n",
              "    </tr>\n",
              "    <tr>\n",
              "      <th>Total</th>\n",
              "      <td>21</td>\n",
              "    </tr>\n",
              "  </tbody>\n",
              "</table>\n",
              "</div>"
            ],
            "text/plain": [
              "                    Number of parents with specified education\n",
              "Bachelor's degree                                            3\n",
              "Masters's degree                                             6\n",
              "Some College level                                          12\n",
              "Total                                                       21"
            ]
          },
          "execution_count": 15,
          "metadata": {},
          "output_type": "execute_result"
        }
      ],
      "source": [
        "listA = [\"Bachelor's degree\",\"Masters's degree\",\"Some College level\",\"Total\"]\n",
        "listB = [no_bachelors,no_master,no_college,no_bachelors+no_master+no_college]\n",
        "q4Answer = pd.DataFrame(listB, index=listA)\n",
        "q4Answer.columns= [\"Number of parents with specified education\"]\n",
        "q4Answer"
      ]
    },
    {
      "cell_type": "markdown",
      "metadata": {
        "id": "8VurkUYblpNg"
      },
      "source": [
        "### In a score the top scorer is male or female"
      ]
    },
    {
      "cell_type": "code",
      "execution_count": 16,
      "metadata": {
        "colab": {
          "base_uri": "https://localhost:8080/"
        },
        "id": "s7nPcAiulpNh",
        "outputId": "e529bdde-ff4b-4a9b-88c7-d91832dceac1"
      },
      "outputs": [
        {
          "name": "stdout",
          "output_type": "stream",
          "text": [
            "**********\n",
            "**********\n",
            "**********\n",
            "Top performer in Math is a male with a score of 97\n",
            "**********\n",
            "**********\n",
            "**********\n",
            "Top performer in Reading is a female with a score of 95\n",
            "**********\n",
            "**********\n",
            "**********\n",
            "Top performer in Writing is a female with a score of 93\n"
          ]
        },
        {
          "data": {
            "text/plain": [
              "['Math', 'Reading', 'Writing']"
            ]
          },
          "execution_count": 16,
          "metadata": {},
          "output_type": "execute_result"
        }
      ],
      "source": [
        "top_performers = []\n",
        "top_scores = []\n",
        "subjects = []\n",
        "for score_column in [3,4,5]:\n",
        "    higest_score = 0\n",
        "    higest_performer = \" \"\n",
        "    for innerList in data:\n",
        "        if int(innerList[score_column]) > higest_score:\n",
        "            higest_score = int(innerList[score_column])\n",
        "            higest_performer = innerList[0]\n",
        "    print(\"**********\")\n",
        "    print(\"**********\")\n",
        "    print(\"**********\")\n",
        "    print(f\"Top performer in {(labels[score_column]).split(' ')[0].capitalize()} is a {higest_performer} with a score of {higest_score}\")\n",
        "    top_scores.append(higest_score)\n",
        "    top_performers.append(higest_performer)\n",
        "    subjects.append((labels[score_column]).split(' ')[0].capitalize())\n",
        "\n",
        "subjects\n"
      ]
    },
    {
      "cell_type": "code",
      "execution_count": 17,
      "metadata": {
        "colab": {
          "base_uri": "https://localhost:8080/",
          "height": 112
        },
        "id": "piSXLBCnlpNl",
        "outputId": "972d10ac-9e16-44f3-95fd-2e5b5dc7c815"
      },
      "outputs": [
        {
          "data": {
            "text/html": [
              "<div>\n",
              "<style scoped>\n",
              "    .dataframe tbody tr th:only-of-type {\n",
              "        vertical-align: middle;\n",
              "    }\n",
              "\n",
              "    .dataframe tbody tr th {\n",
              "        vertical-align: top;\n",
              "    }\n",
              "\n",
              "    .dataframe thead th {\n",
              "        text-align: right;\n",
              "    }\n",
              "</style>\n",
              "<table border=\"1\" class=\"dataframe\">\n",
              "  <thead>\n",
              "    <tr style=\"text-align: right;\">\n",
              "      <th></th>\n",
              "      <th>Math</th>\n",
              "      <th>Reading</th>\n",
              "      <th>Writing</th>\n",
              "    </tr>\n",
              "  </thead>\n",
              "  <tbody>\n",
              "    <tr>\n",
              "      <th>Top Scorer Gender</th>\n",
              "      <td>male</td>\n",
              "      <td>female</td>\n",
              "      <td>female</td>\n",
              "    </tr>\n",
              "    <tr>\n",
              "      <th>Top Score</th>\n",
              "      <td>97</td>\n",
              "      <td>95</td>\n",
              "      <td>93</td>\n",
              "    </tr>\n",
              "  </tbody>\n",
              "</table>\n",
              "</div>"
            ],
            "text/plain": [
              "                   Math Reading Writing\n",
              "Top Scorer Gender  male  female  female\n",
              "Top Score            97      95      93"
            ]
          },
          "execution_count": 17,
          "metadata": {},
          "output_type": "execute_result"
        }
      ],
      "source": [
        "q5Answer = pd.DataFrame([top_performers,top_scores],index=[\"Top Scorer Gender\",\"Top Score\"])\n",
        "q5Answer.columns=subjects\n",
        "q5Answer"
      ]
    },
    {
      "cell_type": "markdown",
      "metadata": {
        "id": "l7jO8COUlpNn"
      },
      "source": [
        "### How many students are good in reading (>75) nut not in writing (<75)"
      ]
    },
    {
      "cell_type": "code",
      "execution_count": 18,
      "metadata": {
        "colab": {
          "base_uri": "https://localhost:8080/"
        },
        "id": "uHJ50nzSlpNn",
        "outputId": "9daf8295-3c14-4c70-b5af-695a77852f5c"
      },
      "outputs": [
        {
          "data": {
            "text/plain": [
              "['gender',\n",
              " 'parental level of education',\n",
              " 'test preparation course',\n",
              " 'math score',\n",
              " 'reading score',\n",
              " 'writing score']"
            ]
          },
          "execution_count": 18,
          "metadata": {},
          "output_type": "execute_result"
        }
      ],
      "source": [
        "labels"
      ]
    },
    {
      "cell_type": "code",
      "execution_count": 19,
      "metadata": {
        "colab": {
          "base_uri": "https://localhost:8080/"
        },
        "id": "YLaIKCMblpNp",
        "outputId": "5d86bf97-d389-493f-f696-24f4e85b3eb9"
      },
      "outputs": [
        {
          "name": "stdout",
          "output_type": "stream",
          "text": [
            "There are 1 number of students who are good at reading but bad at writing\n"
          ]
        }
      ],
      "source": [
        "no_of_students = 0\n",
        "for innerList in data:\n",
        "    if int(innerList[labels.index('reading score')]) > 75:\n",
        "        if int(innerList[labels.index('writing score')]) < 75:\n",
        "            no_of_students +=1\n",
        "q6Answer = f\"There are {no_of_students} number of students who are good at reading but bad at writing\"\n",
        "print(q6Answer) \n"
      ]
    },
    {
      "cell_type": "markdown",
      "metadata": {
        "id": "FR8-HlVelpNs"
      },
      "source": [
        "## Answers"
      ]
    },
    {
      "cell_type": "markdown",
      "metadata": {
        "id": "SeZB3OPolpNt"
      },
      "source": [
        "- Check weather female performs good or male studentds in each score."
      ]
    },
    {
      "cell_type": "code",
      "execution_count": 20,
      "metadata": {
        "colab": {
          "base_uri": "https://localhost:8080/",
          "height": 143
        },
        "id": "7qtJDZRGlpNx",
        "outputId": "da975b3d-e41a-43e0-b974-d4a9d5f11cbb"
      },
      "outputs": [
        {
          "data": {
            "text/html": [
              "<div>\n",
              "<style scoped>\n",
              "    .dataframe tbody tr th:only-of-type {\n",
              "        vertical-align: middle;\n",
              "    }\n",
              "\n",
              "    .dataframe tbody tr th {\n",
              "        vertical-align: top;\n",
              "    }\n",
              "\n",
              "    .dataframe thead th {\n",
              "        text-align: right;\n",
              "    }\n",
              "</style>\n",
              "<table border=\"1\" class=\"dataframe\">\n",
              "  <thead>\n",
              "    <tr style=\"text-align: right;\">\n",
              "      <th></th>\n",
              "      <th>Best Performer in repective test</th>\n",
              "    </tr>\n",
              "  </thead>\n",
              "  <tbody>\n",
              "    <tr>\n",
              "      <th>Math</th>\n",
              "      <td>Male</td>\n",
              "    </tr>\n",
              "    <tr>\n",
              "      <th>Reading</th>\n",
              "      <td>Female</td>\n",
              "    </tr>\n",
              "    <tr>\n",
              "      <th>Writing</th>\n",
              "      <td>Female</td>\n",
              "    </tr>\n",
              "  </tbody>\n",
              "</table>\n",
              "</div>"
            ],
            "text/plain": [
              "        Best Performer in repective test\n",
              "Math                                Male\n",
              "Reading                           Female\n",
              "Writing                           Female"
            ]
          },
          "execution_count": 20,
          "metadata": {},
          "output_type": "execute_result"
        }
      ],
      "source": [
        "q1Answer"
      ]
    },
    {
      "cell_type": "markdown",
      "metadata": {
        "id": "jGaMpSRGlpNz"
      },
      "source": [
        "- Is there any difference in student score if parents have master-level education in each score"
      ]
    },
    {
      "cell_type": "code",
      "execution_count": 21,
      "metadata": {
        "colab": {
          "base_uri": "https://localhost:8080/",
          "height": 143
        },
        "id": "WZ14eGprlpN2",
        "outputId": "c02f16b6-790e-4875-efb7-d03461b5a4f4"
      },
      "outputs": [
        {
          "data": {
            "text/html": [
              "<div>\n",
              "<style scoped>\n",
              "    .dataframe tbody tr th:only-of-type {\n",
              "        vertical-align: middle;\n",
              "    }\n",
              "\n",
              "    .dataframe tbody tr th {\n",
              "        vertical-align: top;\n",
              "    }\n",
              "\n",
              "    .dataframe thead th {\n",
              "        text-align: right;\n",
              "    }\n",
              "</style>\n",
              "<table border=\"1\" class=\"dataframe\">\n",
              "  <thead>\n",
              "    <tr style=\"text-align: right;\">\n",
              "      <th></th>\n",
              "      <th>Students having parent's with master's degree performed batter</th>\n",
              "    </tr>\n",
              "  </thead>\n",
              "  <tbody>\n",
              "    <tr>\n",
              "      <th>Math</th>\n",
              "      <td>No</td>\n",
              "    </tr>\n",
              "    <tr>\n",
              "      <th>Reading</th>\n",
              "      <td>No</td>\n",
              "    </tr>\n",
              "    <tr>\n",
              "      <th>Writing</th>\n",
              "      <td>Yes</td>\n",
              "    </tr>\n",
              "  </tbody>\n",
              "</table>\n",
              "</div>"
            ],
            "text/plain": [
              "        Students having parent's with master's degree performed batter\n",
              "Math                                                    No            \n",
              "Reading                                                 No            \n",
              "Writing                                                Yes            "
            ]
          },
          "execution_count": 21,
          "metadata": {},
          "output_type": "execute_result"
        }
      ],
      "source": [
        "q2Answer"
      ]
    },
    {
      "cell_type": "markdown",
      "metadata": {
        "id": "MDL9XONTlpN3"
      },
      "source": [
        "- Is there any difference in student score if parents have bachler-level education in each score"
      ]
    },
    {
      "cell_type": "code",
      "execution_count": 22,
      "metadata": {
        "colab": {
          "base_uri": "https://localhost:8080/",
          "height": 143
        },
        "id": "Ej6Sf8RglpN5",
        "outputId": "d14c8f82-bb4d-48ce-886c-600c5c0731d8"
      },
      "outputs": [
        {
          "data": {
            "text/html": [
              "<div>\n",
              "<style scoped>\n",
              "    .dataframe tbody tr th:only-of-type {\n",
              "        vertical-align: middle;\n",
              "    }\n",
              "\n",
              "    .dataframe tbody tr th {\n",
              "        vertical-align: top;\n",
              "    }\n",
              "\n",
              "    .dataframe thead th {\n",
              "        text-align: right;\n",
              "    }\n",
              "</style>\n",
              "<table border=\"1\" class=\"dataframe\">\n",
              "  <thead>\n",
              "    <tr style=\"text-align: right;\">\n",
              "      <th></th>\n",
              "      <th>Students having parent's with bachelor's degree performed batter</th>\n",
              "    </tr>\n",
              "  </thead>\n",
              "  <tbody>\n",
              "    <tr>\n",
              "      <th>Math</th>\n",
              "      <td>Yes</td>\n",
              "    </tr>\n",
              "    <tr>\n",
              "      <th>Reading</th>\n",
              "      <td>Yes</td>\n",
              "    </tr>\n",
              "    <tr>\n",
              "      <th>Writing</th>\n",
              "      <td>Yes</td>\n",
              "    </tr>\n",
              "  </tbody>\n",
              "</table>\n",
              "</div>"
            ],
            "text/plain": [
              "        Students having parent's with bachelor's degree performed batter\n",
              "Math                                                   Yes              \n",
              "Reading                                                Yes              \n",
              "Writing                                                Yes              "
            ]
          },
          "execution_count": 22,
          "metadata": {},
          "output_type": "execute_result"
        }
      ],
      "source": [
        "q3Answer"
      ]
    },
    {
      "cell_type": "markdown",
      "metadata": {
        "id": "PXIxTL49lpN6"
      },
      "source": [
        "- How many Parents have bachelors education, master education, or some college degrees level education"
      ]
    },
    {
      "cell_type": "code",
      "execution_count": 23,
      "metadata": {
        "colab": {
          "base_uri": "https://localhost:8080/",
          "height": 175
        },
        "id": "m2VrvYmKlpOF",
        "outputId": "1435aeda-4b68-42da-c5b7-585191dda7bc"
      },
      "outputs": [
        {
          "data": {
            "text/html": [
              "<div>\n",
              "<style scoped>\n",
              "    .dataframe tbody tr th:only-of-type {\n",
              "        vertical-align: middle;\n",
              "    }\n",
              "\n",
              "    .dataframe tbody tr th {\n",
              "        vertical-align: top;\n",
              "    }\n",
              "\n",
              "    .dataframe thead th {\n",
              "        text-align: right;\n",
              "    }\n",
              "</style>\n",
              "<table border=\"1\" class=\"dataframe\">\n",
              "  <thead>\n",
              "    <tr style=\"text-align: right;\">\n",
              "      <th></th>\n",
              "      <th>Number of parents with specified education</th>\n",
              "    </tr>\n",
              "  </thead>\n",
              "  <tbody>\n",
              "    <tr>\n",
              "      <th>Bachelor's degree</th>\n",
              "      <td>3</td>\n",
              "    </tr>\n",
              "    <tr>\n",
              "      <th>Masters's degree</th>\n",
              "      <td>6</td>\n",
              "    </tr>\n",
              "    <tr>\n",
              "      <th>Some College level</th>\n",
              "      <td>12</td>\n",
              "    </tr>\n",
              "    <tr>\n",
              "      <th>Total</th>\n",
              "      <td>21</td>\n",
              "    </tr>\n",
              "  </tbody>\n",
              "</table>\n",
              "</div>"
            ],
            "text/plain": [
              "                    Number of parents with specified education\n",
              "Bachelor's degree                                            3\n",
              "Masters's degree                                             6\n",
              "Some College level                                          12\n",
              "Total                                                       21"
            ]
          },
          "execution_count": 23,
          "metadata": {},
          "output_type": "execute_result"
        }
      ],
      "source": [
        "q4Answer"
      ]
    },
    {
      "cell_type": "markdown",
      "metadata": {
        "id": "wW_ORWj4lpOG"
      },
      "source": [
        "- In a score the top scorer is male or female"
      ]
    },
    {
      "cell_type": "code",
      "execution_count": 24,
      "metadata": {
        "colab": {
          "base_uri": "https://localhost:8080/",
          "height": 112
        },
        "id": "ZZqLNwRvlpOH",
        "outputId": "62a9c948-9294-4910-9abd-7feaa678f2bd"
      },
      "outputs": [
        {
          "data": {
            "text/html": [
              "<div>\n",
              "<style scoped>\n",
              "    .dataframe tbody tr th:only-of-type {\n",
              "        vertical-align: middle;\n",
              "    }\n",
              "\n",
              "    .dataframe tbody tr th {\n",
              "        vertical-align: top;\n",
              "    }\n",
              "\n",
              "    .dataframe thead th {\n",
              "        text-align: right;\n",
              "    }\n",
              "</style>\n",
              "<table border=\"1\" class=\"dataframe\">\n",
              "  <thead>\n",
              "    <tr style=\"text-align: right;\">\n",
              "      <th></th>\n",
              "      <th>Math</th>\n",
              "      <th>Reading</th>\n",
              "      <th>Writing</th>\n",
              "    </tr>\n",
              "  </thead>\n",
              "  <tbody>\n",
              "    <tr>\n",
              "      <th>Top Scorer Gender</th>\n",
              "      <td>male</td>\n",
              "      <td>female</td>\n",
              "      <td>female</td>\n",
              "    </tr>\n",
              "    <tr>\n",
              "      <th>Top Score</th>\n",
              "      <td>97</td>\n",
              "      <td>95</td>\n",
              "      <td>93</td>\n",
              "    </tr>\n",
              "  </tbody>\n",
              "</table>\n",
              "</div>"
            ],
            "text/plain": [
              "                   Math Reading Writing\n",
              "Top Scorer Gender  male  female  female\n",
              "Top Score            97      95      93"
            ]
          },
          "execution_count": 24,
          "metadata": {},
          "output_type": "execute_result"
        }
      ],
      "source": [
        "q5Answer"
      ]
    },
    {
      "cell_type": "markdown",
      "metadata": {
        "id": "pSTPFjLPlpOJ"
      },
      "source": [
        "- How many students are good in reading (>75) nut not in writing (<75)"
      ]
    },
    {
      "cell_type": "code",
      "execution_count": 25,
      "metadata": {
        "colab": {
          "base_uri": "https://localhost:8080/"
        },
        "id": "G4ReX1YslpOL",
        "outputId": "e4b479eb-0e37-428f-bb54-50edcabc711c"
      },
      "outputs": [
        {
          "name": "stdout",
          "output_type": "stream",
          "text": [
            "There are 1 number of students who are good at reading but bad at writing\n"
          ]
        }
      ],
      "source": [
        "print(q6Answer)"
      ]
    }
  ],
  "metadata": {
    "colab": {
      "name": "anees_R_2020_07_04.ipynb",
      "provenance": []
    },
    "interpreter": {
      "hash": "36936de28985cacfc4da12bbbf55d3c1f6084aa27c30ac425efd6e5a861cd2e0"
    },
    "kernelspec": {
      "display_name": "Python 3.10.1 64-bit",
      "language": "python",
      "name": "python3"
    },
    "language_info": {
      "codemirror_mode": {
        "name": "ipython",
        "version": 3
      },
      "file_extension": ".py",
      "mimetype": "text/x-python",
      "name": "python",
      "nbconvert_exporter": "python",
      "pygments_lexer": "ipython3",
      "version": "3.10.1"
    },
    "orig_nbformat": 4
  },
  "nbformat": 4,
  "nbformat_minor": 0
}
