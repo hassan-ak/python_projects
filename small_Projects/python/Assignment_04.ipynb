{
 "cells": [
  {
   "cell_type": "markdown",
   "metadata": {},
   "source": [
    "# Assignment 04"
   ]
  },
  {
   "cell_type": "code",
   "execution_count": 1,
   "metadata": {},
   "outputs": [],
   "source": [
    "# D. verbing\n",
    "# Given a string, if its length is at least 3,\n",
    "# add 'ing' to its end.\n",
    "# Unless it already ends in 'ing', in which case\n",
    "# add 'ly' instead.\n",
    "# If the string length is less than 3, leave it unchanged.\n",
    "# Return the resulting string.\n",
    "def verbing(s):\n",
    "    if len(s) < 3:\n",
    "        pass\n",
    "    elif s[-3:] == \"ing\":\n",
    "        s = s + \"ly\"\n",
    "    else:\n",
    "        s = s + \"ing\"\n",
    "    return s"
   ]
  },
  {
   "cell_type": "code",
   "execution_count": 2,
   "metadata": {},
   "outputs": [],
   "source": [
    "# E. not_bad\n",
    "# Given a string, find the first appearance of the\n",
    "# substring 'not' and 'bad'. If the 'bad' follows\n",
    "# the 'not', replace the whole 'not'...'bad' substring\n",
    "# with 'good'.\n",
    "# Return the resulting string.\n",
    "# So 'This dinner is not that bad!' yields:\n",
    "# This dinner is good!\n",
    "def not_bad(s):\n",
    "    if \"not\" in s and \"bad\" in s and s.index('not') < s.index('bad'):\n",
    "        s = s.replace(s[s.index('not'):s.index('bad')+3],\"good\")\n",
    "    else:\n",
    "        pass\n",
    "    return s"
   ]
  },
  {
   "cell_type": "code",
   "execution_count": 3,
   "metadata": {},
   "outputs": [],
   "source": [
    "# F. front_back\n",
    "# Consider dividing a string into two halves.\n",
    "# If the length is even, the front and back halves are the same length.\n",
    "# If the length is odd, we'll say that the extra char goes in the front half.\n",
    "# e.g. 'abcde', the front half is 'abc', the back half 'de'.\n",
    "# Given 2 strings, a and b, return a string of the form\n",
    "#  a-front + b-front + a-back + b-back\n",
    "def front_back(a, b):\n",
    "    aList = []\n",
    "    for i in [a,b]:\n",
    "        if len(i)%2 == 0:\n",
    "            aList.append(i[0:len(i)//2])\n",
    "            aList.append(i[len(i)//2:])\n",
    "        else:\n",
    "            aList.append(i[0:len(i)//2+1])\n",
    "            aList.append(i[len(i)//2+1:])\n",
    "    result = aList[0]+aList[2]+aList[1]+aList[3]\n",
    "    return result\n"
   ]
  },
  {
   "cell_type": "markdown",
   "metadata": {},
   "source": [
    "### Testing"
   ]
  },
  {
   "cell_type": "code",
   "execution_count": 4,
   "metadata": {},
   "outputs": [],
   "source": [
    "def test(got, expected):\n",
    "    if got == expected:\n",
    "        prefix = 'OK'\n",
    "    else:\n",
    "        prefix = 'X'\n",
    "    print(f'{prefix} got: {got} expected: {expected}')\n",
    "def main():\n",
    "    print('verbing')\n",
    "    test(verbing('hail'), 'hailing')\n",
    "    test(verbing('swiming'), 'swimingly')\n",
    "    test(verbing('do'), 'do')\n",
    "\n",
    "    print('not_bad')\n",
    "    test(not_bad('This movie is not so bad'), 'This movie is good')\n",
    "    test(not_bad('This dinner is not that bad!'), 'This dinner is good!')\n",
    "    test(not_bad('This tea is not hot'), 'This tea is not hot')\n",
    "    test(not_bad(\"It's bad yet not\"), \"It's bad yet not\")\n",
    "\n",
    "    print('front_back')\n",
    "    test(front_back('abcd', 'xy'), 'abxcdy')\n",
    "    test(front_back('abcde', 'xyz'), 'abcxydez')\n",
    "    test(front_back('Kitten', 'Donut'), 'KitDontenut')"
   ]
  },
  {
   "cell_type": "code",
   "execution_count": 5,
   "metadata": {},
   "outputs": [
    {
     "name": "stdout",
     "output_type": "stream",
     "text": [
      "verbing\n",
      "OK got: hailing expected: hailing\n",
      "OK got: swimingly expected: swimingly\n",
      "OK got: do expected: do\n",
      "not_bad\n",
      "OK got: This movie is good expected: This movie is good\n",
      "OK got: This dinner is good! expected: This dinner is good!\n",
      "OK got: This tea is not hot expected: This tea is not hot\n",
      "OK got: It's bad yet not expected: It's bad yet not\n",
      "front_back\n",
      "OK got: abxcdy expected: abxcdy\n",
      "OK got: abcxydez expected: abcxydez\n",
      "OK got: KitDontenut expected: KitDontenut\n"
     ]
    }
   ],
   "source": [
    "main()"
   ]
  }
 ],
 "metadata": {
  "interpreter": {
   "hash": "36936de28985cacfc4da12bbbf55d3c1f6084aa27c30ac425efd6e5a861cd2e0"
  },
  "kernelspec": {
   "display_name": "Python 3.10.1 64-bit",
   "language": "python",
   "name": "python3"
  },
  "language_info": {
   "codemirror_mode": {
    "name": "ipython",
    "version": 3
   },
   "file_extension": ".py",
   "mimetype": "text/x-python",
   "name": "python",
   "nbconvert_exporter": "python",
   "pygments_lexer": "ipython3",
   "version": "3.10.1"
  },
  "orig_nbformat": 4
 },
 "nbformat": 4,
 "nbformat_minor": 2
}
