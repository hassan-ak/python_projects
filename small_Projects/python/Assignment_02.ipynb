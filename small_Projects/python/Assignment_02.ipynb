{
 "cells": [
  {
   "cell_type": "markdown",
   "metadata": {},
   "source": [
    "## Assignment 02"
   ]
  },
  {
   "cell_type": "markdown",
   "metadata": {},
   "source": [
    "## Q1.\t\n",
    "Write a Python program which accepts the radius of a circle from the user and compute the area"
   ]
  },
  {
   "cell_type": "code",
   "execution_count": 1,
   "metadata": {},
   "outputs": [
    {
     "name": "stdout",
     "output_type": "stream",
     "text": [
      "Radius of circle is : 2.0 cm\n",
      "Area of circle is : 12.57 cm²\n"
     ]
    }
   ],
   "source": [
    "import math\n",
    "radius = float(input(\"Enter radius of the circle in 'cm' : \"))\n",
    "print(f\"Radius of circle is : {radius} cm\")\n",
    "area = round(((math.pi)*(radius**2)),2)\n",
    "superscript = str.maketrans(\"0123456789\", \"⁰¹²³⁴⁵⁶⁷⁸⁹\")\n",
    "symbol = \"cm2\"\n",
    "symbol = symbol.translate(superscript)\n",
    "print(f\"Area of circle is : {area} {symbol}\")"
   ]
  },
  {
   "cell_type": "markdown",
   "metadata": {},
   "source": [
    "## Q2.\n",
    "Write a Python program to check if a number is positive, negative or zero"
   ]
  },
  {
   "cell_type": "code",
   "execution_count": 2,
   "metadata": {},
   "outputs": [
    {
     "name": "stdout",
     "output_type": "stream",
     "text": [
      "Entered number is : 15.0\n",
      "Entered number is +ve\n",
      "**********\n",
      "Entered number is : 0.0\n",
      "Entered number is zero\n",
      "**********\n",
      "Entered number is : -15.0\n",
      "Entered number is -ve\n",
      "**********\n"
     ]
    }
   ],
   "source": [
    "for i in [1,2,3]:\n",
    "    aNumber = float(input(\"Enter a number : \"))\n",
    "    print(f\"Entered number is : {aNumber}\")\n",
    "    if aNumber < 0:\n",
    "        print(\"Entered number is -ve\")\n",
    "    elif aNumber > 0:\n",
    "        print(\"Entered number is +ve\")\n",
    "    else:\n",
    "        print(\"Entered number is zero\")\n",
    "    print(\"**********\")"
   ]
  },
  {
   "cell_type": "markdown",
   "metadata": {},
   "source": [
    "## Q3\n",
    "Write a Python function to check whether a number is completely divisible by another number. Accept two integer values form the user"
   ]
  },
  {
   "cell_type": "code",
   "execution_count": 3,
   "metadata": {},
   "outputs": [
    {
     "name": "stdout",
     "output_type": "stream",
     "text": [
      "First Number : 11\n",
      "Second Number : 12\n",
      "First number 11 is not completely divisible by second number 12\n",
      "**********\n",
      "First Number : 10\n",
      "Second Number : 2\n",
      "First number 10 is completely divisible by second number 2\n",
      "**********\n"
     ]
    }
   ],
   "source": [
    "for i in [1,2]:\n",
    "    first_number = int(input(\"Enter 1st number : \"))\n",
    "    second_number = int(input(\"Enter 2nd number : \"))\n",
    "    print(f\"First Number : {first_number}\")\n",
    "    print(f\"Second Number : {second_number}\")\n",
    "    if first_number%second_number == 0:\n",
    "        print(f\"First number {first_number} is completely divisible by second number {second_number}\")\n",
    "    else:\n",
    "        print(f\"First number {first_number} is not completely divisible by second number {second_number}\")\n",
    "    print(\"**********\")\n"
   ]
  },
  {
   "cell_type": "markdown",
   "metadata": {},
   "source": [
    "## Q4\n",
    "Write a Python program that accepts an integer (n) and computes the value of (n + nn + nnn)"
   ]
  },
  {
   "cell_type": "code",
   "execution_count": 4,
   "metadata": {},
   "outputs": [
    {
     "name": "stdout",
     "output_type": "stream",
     "text": [
      "Entered number is : 5\n",
      "(n + nn + nnn) = 155\n"
     ]
    }
   ],
   "source": [
    "aNumber = int(input(\"Enter a number (ineger) : \"))\n",
    "print(f\"Entered number is : {aNumber}\")\n",
    "result = aNumber + aNumber*aNumber + aNumber*aNumber*aNumber\n",
    "print(f\"(n + nn + nnn) = {result}\")"
   ]
  },
  {
   "cell_type": "markdown",
   "metadata": {},
   "source": [
    "# Q5\n",
    "Write a Python program to calculate number of days between two dates"
   ]
  },
  {
   "cell_type": "code",
   "execution_count": 5,
   "metadata": {},
   "outputs": [
    {
     "name": "stdout",
     "output_type": "stream",
     "text": [
      "1st date is : 28-09-1992\n",
      "2nd date is : 20-01-2021\n",
      "Number of days between two given dates is 10341\n"
     ]
    }
   ],
   "source": [
    "from datetime import date\n",
    "date1 = input(\"Enter date 01 in following pattern dd-mm-yyyy : \")\n",
    "date2 = input(\"Enter date 02 in following pattern dd-mm-yyyy : \")\n",
    "print(f\"1st date is : {date1}\")\n",
    "print(f\"2nd date is : {date2}\")\n",
    "date1 = [int(x) for x in date1.split(\"-\")]\n",
    "date2 = [int(x) for x in date2.split(\"-\")]\n",
    "date1 = date(date1[2], date1[1], date1[0])\n",
    "date2 = date(date2[2], date2[1], date2[0])\n",
    "result = abs((date2-date1).days)\n",
    "print(f\"Number of days between two given dates is {result}\")\n"
   ]
  },
  {
   "cell_type": "markdown",
   "metadata": {},
   "source": [
    "## Q6\n",
    "Write a Python program to get the volume of a sphere, please take the radius as input from user. V=4 / 3 πr3"
   ]
  },
  {
   "cell_type": "code",
   "execution_count": 6,
   "metadata": {},
   "outputs": [
    {
     "name": "stdout",
     "output_type": "stream",
     "text": [
      "Radius of sphere is : 3.0 cm\n",
      "Volume of sphere is : 113.1 cm³\n"
     ]
    }
   ],
   "source": [
    "import math\n",
    "radius = float(input(\"Enter radius of the sphere in 'cm' : \"))\n",
    "print(f\"Radius of sphere is : {radius} cm\")\n",
    "volume = round(((4/3)*(math.pi)*(radius**3)),2)\n",
    "superscript = str.maketrans(\"0123456789\", \"⁰¹²³⁴⁵⁶⁷⁸⁹\")\n",
    "symbol = \"cm3\"\n",
    "symbol = symbol.translate(superscript)\n",
    "print(f\"Volume of sphere is : {volume} {symbol}\")"
   ]
  },
  {
   "cell_type": "markdown",
   "metadata": {},
   "source": [
    "# Q7\n",
    "Write a Python program to get the difference between a given number and 17, difference cannot be negative"
   ]
  },
  {
   "cell_type": "code",
   "execution_count": 7,
   "metadata": {},
   "outputs": [
    {
     "name": "stdout",
     "output_type": "stream",
     "text": [
      "Entered number is : 5.0\n",
      "Difference between given number and 17 is : 12.0\n",
      "**********\n",
      "Entered number is : 21.0\n",
      "Difference between given number and 17 is : 4.0\n",
      "**********\n"
     ]
    }
   ],
   "source": [
    "for i in [1,2]:\n",
    "    aNumber = float(input(\"Enter a number : \"))\n",
    "    print(f\"Entered number is : {aNumber}\")\n",
    "    result = abs(aNumber-17)\n",
    "    print(f\"Difference between given number and 17 is : {result}\")\n",
    "    print(\"**********\")"
   ]
  },
  {
   "cell_type": "markdown",
   "metadata": {},
   "source": [
    "# Q8\n",
    "Write a Python program to get a new string from a given string where \"Is\" has been added to the front. If the given string already begins with \"Is\" then return the string unchanged"
   ]
  },
  {
   "cell_type": "code",
   "execution_count": 8,
   "metadata": {},
   "outputs": [
    {
     "name": "stdout",
     "output_type": "stream",
     "text": [
      "Entered string is : Hello\n",
      "Resultant string is : IsHello\n",
      "**********\n",
      "Entered string is : Islam\n",
      "Resultant string is : Islam\n",
      "**********\n"
     ]
    }
   ],
   "source": [
    "for i in [1,2]:\n",
    "    aString =input(\"Enter a String : \")\n",
    "    print(f\"Entered string is : {aString}\")\n",
    "    if aString[0:2] == \"Is\":\n",
    "        result = aString\n",
    "    else:\n",
    "        result = \"Is\"+aString\n",
    "    print(f\"Resultant string is : {result}\")\n",
    "    print(\"**********\")"
   ]
  },
  {
   "cell_type": "markdown",
   "metadata": {},
   "source": [
    "# Q9\n",
    "Write a Python program to get a string which is n (non-negative integer) copies of a given string"
   ]
  },
  {
   "cell_type": "code",
   "execution_count": 9,
   "metadata": {},
   "outputs": [
    {
     "name": "stdout",
     "output_type": "stream",
     "text": [
      "Entered string is : Hello\n",
      "Entered number is : 5\n",
      "Resultant string is : Hello Hello Hello Hello Hello \n"
     ]
    }
   ],
   "source": [
    "aString =input(\"Enter a String : \")\n",
    "print(f\"Entered string is : {aString}\")\n",
    "n =int(input(\"Enter a number : \"))\n",
    "print(f\"Entered number is : {n}\")\n",
    "result = (aString + \" \")*n\n",
    "print(f\"Resultant string is : {result}\")"
   ]
  },
  {
   "cell_type": "markdown",
   "metadata": {},
   "source": [
    "## Q10\n",
    "Write a Python program to find whether a given number (accept from the user) is even or odd, print out an appropriate message to the user."
   ]
  },
  {
   "cell_type": "code",
   "execution_count": 10,
   "metadata": {},
   "outputs": [
    {
     "name": "stdout",
     "output_type": "stream",
     "text": [
      "Entered number is : 11.0\n",
      "Entered number is an odd number\n",
      "**********\n",
      "Entered number is : 12.0\n",
      "Entered number is an even number\n",
      "**********\n"
     ]
    }
   ],
   "source": [
    "for i in [1,2]:\n",
    "    n =float(input(\"Enter a number : \"))\n",
    "    print(f\"Entered number is : {n}\")\n",
    "    if n%2 == 0:\n",
    "        print(\"Entered number is an even number\")\n",
    "    else:\n",
    "        print(\"Entered number is an odd number\")\n",
    "    print(\"**********\")"
   ]
  },
  {
   "cell_type": "markdown",
   "metadata": {},
   "source": [
    "## Q11\n",
    "Write a Python program to test whether a passed letter is a vowel or not"
   ]
  },
  {
   "cell_type": "code",
   "execution_count": 11,
   "metadata": {},
   "outputs": [
    {
     "name": "stdout",
     "output_type": "stream",
     "text": [
      "Entered letter : a\n",
      "Entered letter is a vowel\n",
      "**********\n",
      "Entered letter : s\n",
      "Entered letter is not a vowel\n",
      "**********\n"
     ]
    }
   ],
   "source": [
    "for i in [1,2]:\n",
    "    aLetter = input(\"Enter a letter : \")\n",
    "    print(f\"Entered letter : {aLetter}\")\n",
    "    vowels = [\"a\",\"e\",\"i\",\"o\",\"u\"]\n",
    "    if aLetter in vowels:\n",
    "        print(\"Entered letter is a vowel\")\n",
    "    else:\n",
    "        print(\"Entered letter is not a vowel\")\n",
    "    print(\"**********\")"
   ]
  },
  {
   "cell_type": "markdown",
   "metadata": {},
   "source": [
    "## Q12\n",
    "Write a Python program that will accept the base and height of a triangle and compute the area (https://www.khanacademy.org/math/basic-geo/basic-geo-area-and-perimeter/area-triangle/a/area-of-triangle)"
   ]
  },
  {
   "cell_type": "code",
   "execution_count": 12,
   "metadata": {},
   "outputs": [
    {
     "name": "stdout",
     "output_type": "stream",
     "text": [
      "Entered base is 5.0 cm\n",
      "Entered height is 21.0 cm\n",
      "Area of triangle is : 52.5 cm²\n"
     ]
    }
   ],
   "source": [
    "base = float(input(\"Enter base of the triangle in cm\"))\n",
    "height = float(input(\"Enter height of the triangle in cm\"))\n",
    "print(f\"Entered base is {base} cm\")\n",
    "print(f\"Entered height is {height} cm\")\n",
    "area = round((1/2)*(base)*(height),2)\n",
    "superscript = str.maketrans(\"0123456789\", \"⁰¹²³⁴⁵⁶⁷⁸⁹\")\n",
    "symbol = \"cm2\"\n",
    "symbol = symbol.translate(superscript)\n",
    "print(f\"Area of triangle is : {area} {symbol}\")"
   ]
  },
  {
   "cell_type": "markdown",
   "metadata": {},
   "source": [
    "## Q13\n",
    "Write a Python program that will return true if the two given integer values are equal or their sum or difference is 5."
   ]
  },
  {
   "cell_type": "code",
   "execution_count": 13,
   "metadata": {},
   "outputs": [
    {
     "name": "stdout",
     "output_type": "stream",
     "text": [
      "1st number is 7\n",
      "2nd number is 7\n",
      "Result : True\n",
      "**********\n",
      "1st number is 2\n",
      "2nd number is 3\n",
      "Result : True\n",
      "**********\n",
      "1st number is 15\n",
      "2nd number is 20\n",
      "Result : True\n",
      "**********\n",
      "1st number is 6\n",
      "2nd number is 7\n",
      "Result : False\n",
      "**********\n"
     ]
    }
   ],
   "source": [
    "for i in [1,2,3,4]:\n",
    "    number1 = int(input(\"Enter 1st number : \"))\n",
    "    number2 = int(input(\"Enter 2nd number : \"))\n",
    "    print(f\"1st number is {number1}\")\n",
    "    print(f\"2nd number is {number2}\")\n",
    "    if number1 == number2 or number1+number2 == 5 or abs(number1-number2) == 5:\n",
    "        print(f\"Result : {True}\")\n",
    "    else:\n",
    "        print(f\"Result : {False}\")\n",
    "    print(\"**********\")\n"
   ]
  },
  {
   "cell_type": "markdown",
   "metadata": {},
   "source": [
    "## Q14\n",
    "Write a Python program to solve (x + y) * (x + y)"
   ]
  },
  {
   "cell_type": "code",
   "execution_count": 14,
   "metadata": {},
   "outputs": [
    {
     "name": "stdout",
     "output_type": "stream",
     "text": [
      "x = 5.0\n",
      "y = 9.0\n",
      "(x + y) * (x + y) = 196.0\n"
     ]
    }
   ],
   "source": [
    "x = float(input(\"Enter value of x : \"))\n",
    "y = float(input(\"Enter value of y : \"))\n",
    "print(f\"x = {x}\")\n",
    "print(f\"y = {y}\")\n",
    "print(f\"(x + y) * (x + y) = {(x + y) * (x + y)}\")"
   ]
  },
  {
   "cell_type": "markdown",
   "metadata": {},
   "source": [
    "## Q15\n",
    "Write a Python program to compute the future value of a specified principal amount, rate of interest, and a number of years."
   ]
  },
  {
   "cell_type": "code",
   "execution_count": 15,
   "metadata": {},
   "outputs": [
    {
     "name": "stdout",
     "output_type": "stream",
     "text": [
      "Principal amount is : Rs.15000.0\n",
      "Interest rate is : 3.71%\n",
      "Years : 15.0 years\n",
      "Future value will be : 25906.02\n"
     ]
    }
   ],
   "source": [
    "amt = float(input(\"Enter principal amount : \"))\n",
    "print(f\"Principal amount is : Rs.{amt}\")\n",
    "intr = float(input(\"Enter interest rate : \"))\n",
    "print(f\"Interest rate is : {intr}%\")\n",
    "years = float(input(\"Enter no of years : \"))\n",
    "print(f\"Years : {years} years\")\n",
    "future_value = round(amt*((1+(0.01*intr)) ** years),2)\n",
    "print(f\"Future value will be : {future_value}\")"
   ]
  },
  {
   "cell_type": "markdown",
   "metadata": {},
   "source": [
    "## Q16\n",
    "Write a Python program to compute the distance between the points (x1, y1) and (x2, y2). https://en.wikipedia.org/wiki/Euclidean_distance"
   ]
  },
  {
   "cell_type": "code",
   "execution_count": 16,
   "metadata": {},
   "outputs": [
    {
     "name": "stdout",
     "output_type": "stream",
     "text": [
      "Point (x1,y1) is : (1.0,2.0)\n",
      "Point (x2,y2) is : (17.0,21.0)\n",
      "Distance between the points is 24.84\n"
     ]
    }
   ],
   "source": [
    "import math\n",
    "x1 = float(input(\"Enter value of x1 : \"))\n",
    "y1 = float(input(\"Enter value of y1 : \"))\n",
    "x2 = float(input(\"Enter value of x2 : \"))\n",
    "y2 = float(input(\"Enter value of y2 : \"))\n",
    "print(f\"Point (x1,y1) is : ({x1},{y1})\")\n",
    "print(f\"Point (x2,y2) is : ({x2},{y2})\")\n",
    "distance = round(math.sqrt((x2-x1)**2+(y2-y1)**2),2)\n",
    "print(f\"Distance between the points is {distance}\")"
   ]
  },
  {
   "cell_type": "markdown",
   "metadata": {},
   "source": [
    "## Q17\n",
    "Write a Python program to convert height (in feet and inches) to centimetres."
   ]
  },
  {
   "cell_type": "code",
   "execution_count": 17,
   "metadata": {},
   "outputs": [
    {
     "name": "stdout",
     "output_type": "stream",
     "text": [
      "Enter your height\n",
      "Height is : \n",
      "Feet : 5.0\n",
      "Inches : 8.0\n",
      "Height in cm : 172.72cm\n"
     ]
    }
   ],
   "source": [
    "print(\"Enter your height\")\n",
    "feet = float(input(\"Feet : \"))\n",
    "inches = float(input(\"Inches : \"))\n",
    "print(\"Height is : \")\n",
    "print(f\"Feet : {feet}\")\n",
    "print(f\"Inches : {inches}\")\n",
    "result = feet * 30.48 + inches * 2.54\n",
    "print(f\"Height in cm : {result}cm\")\n"
   ]
  },
  {
   "cell_type": "markdown",
   "metadata": {},
   "source": [
    "## Q18\n",
    "Write a Python program to calculate the hypotenuse of a right angled triangle"
   ]
  },
  {
   "cell_type": "code",
   "execution_count": 18,
   "metadata": {},
   "outputs": [
    {
     "name": "stdout",
     "output_type": "stream",
     "text": [
      "Height = 15.0\n",
      "Base = 2.0\n",
      "The length of the hypotenuse is : 15.132745950421556\n"
     ]
    }
   ],
   "source": [
    "# from math import sqrt\n",
    "import math\n",
    "h = float(input(\"Enter height of the triangle : \"))\n",
    "b = float(input(\"Enter base of the triangle : \"))\n",
    "print(f\"Height = {h}\")\n",
    "print(f\"Base = {b}\")\n",
    "c = math.sqrt(h**2 + b**2)\n",
    "print(\"The length of the hypotenuse is :\", c )"
   ]
  },
  {
   "cell_type": "markdown",
   "metadata": {},
   "source": [
    "## Q19\n",
    "Write a Python program to convert the distance (in feet) to inches, yards, and miles. 1 feet = 12 inches, 3 feet = 1 yard, 5280 feet = 1 mile"
   ]
  },
  {
   "cell_type": "code",
   "execution_count": 19,
   "metadata": {},
   "outputs": [
    {
     "name": "stdout",
     "output_type": "stream",
     "text": [
      "Distance = 53198.0 foot\n",
      "Distance = 638376.0 inches\n",
      "Distance = 17732.666666666668 yards\n",
      "Distance = 10.075378787878789 miles\n"
     ]
    }
   ],
   "source": [
    "distance = float(input(\"Enter distance in feet : \"))\n",
    "print(f\"Distance = {distance} foot\")\n",
    "dis_inches = distance * 12\n",
    "print(f\"Distance = {dis_inches} inches\")\n",
    "dis_yards = distance / 3\n",
    "print(f\"Distance = {dis_yards} yards\")\n",
    "dis_miles = distance / 5280\n",
    "print(f\"Distance = {dis_miles} miles\")"
   ]
  },
  {
   "cell_type": "markdown",
   "metadata": {},
   "source": [
    "## Q20\n",
    "Write a Python program to convert all units of time into seconds."
   ]
  },
  {
   "cell_type": "code",
   "execution_count": 20,
   "metadata": {},
   "outputs": [
    {
     "name": "stdout",
     "output_type": "stream",
     "text": [
      "Days : 2073600\n",
      "Hours : 82800\n",
      "Minutes : 1320\n",
      "Seconds : 21\n",
      "The  amounts of seconds 2157741\n"
     ]
    }
   ],
   "source": [
    "days = int(input(\"Input days: \")) * 3600 * 24\n",
    "hours = int(input(\"Input hours: \")) * 3600\n",
    "minutes = int(input(\"Input minutes: \")) * 60\n",
    "seconds = int(input(\"Input seconds: \"))\n",
    "print(f\"Days : {days}\")\n",
    "print(f\"Hours : {hours}\")\n",
    "print(f\"Minutes : {minutes}\")\n",
    "print(f\"Seconds : {seconds}\")\n",
    "\n",
    "time = days + hours + minutes + seconds\n",
    "\n",
    "print(\"The  amounts of seconds\", time)"
   ]
  },
  {
   "cell_type": "markdown",
   "metadata": {},
   "source": [
    "## Q21\n",
    "Write a Python program to convert seconds to day, hour, minutes and seconds."
   ]
  },
  {
   "cell_type": "code",
   "execution_count": 21,
   "metadata": {},
   "outputs": [
    {
     "name": "stdout",
     "output_type": "stream",
     "text": [
      "Entered seconds : 2157741\n",
      "Days : 24\n",
      "Hours : 23\n",
      "Minutes : 22\n",
      "Seconds : 21\n",
      "\n"
     ]
    }
   ],
   "source": [
    "seconds = int(input(\"Input seconds: \"))\n",
    "print(f\"Entered seconds : {seconds}\")\n",
    "days = seconds // (60*60*24)\n",
    "hours = (seconds % (60*60*24)) // (60*60)\n",
    "minutes = ((seconds % (60*60*24)) % (60*60)) // 60\n",
    "seconds = (((seconds % (60*60*24)) % (60*60)) % 60)\n",
    "print(f\"\"\"Days : {days}\n",
    "Hours : {hours}\n",
    "Minutes : {minutes}\n",
    "Seconds : {seconds}\n",
    "\"\"\")"
   ]
  },
  {
   "cell_type": "markdown",
   "metadata": {},
   "source": [
    "## Q22\n",
    "Write a Python program to calculate body mass index. (https://www.thecalculatorsite.com/articles/health/bmi-formula-for-bmi-calculations.php)"
   ]
  },
  {
   "cell_type": "code",
   "execution_count": 22,
   "metadata": {},
   "outputs": [
    {
     "name": "stdout",
     "output_type": "stream",
     "text": [
      "Height : 1.8\n",
      "Weight : 98.0\n",
      "BMI = 30.25\n"
     ]
    }
   ],
   "source": [
    "weight = float(input(\"Enter weight in Kg : \"))\n",
    "height = float(input(\"Enter height in meter : \"))\n",
    "print(f\"Height : {height}\")\n",
    "print(f\"Weight : {weight}\")\n",
    "bmi = round((weight / (height)**2),2)\n",
    "print(f\"BMI = {bmi}\")"
   ]
  },
  {
   "cell_type": "markdown",
   "metadata": {},
   "source": [
    "## Q23\n",
    "Write a Python program to convert temperatures to and from Celsius, Fahrenheit (Practice After Loops have been discussed)"
   ]
  },
  {
   "cell_type": "code",
   "execution_count": 23,
   "metadata": {},
   "outputs": [
    {
     "name": "stdout",
     "output_type": "stream",
     "text": [
      "Entered temperature : 1.0c\n",
      "1.0-c ---> 33.8-f\n",
      "**********\n",
      "Entered temperature : 178.0f\n",
      "178.0-f ---> 81.11111111111111-c\n",
      "**********\n"
     ]
    }
   ],
   "source": [
    "for i in [1,2]:\n",
    "    form = input(\"Enter format of the temperature (c => Celsius, f => Fahrenheit) : \")\n",
    "    temp = float(input(\"Enter temperature : \"))\n",
    "    print(f\"Entered temperature : {temp}{form}\")\n",
    "    if form == \"c\":\n",
    "        result = (temp * 9/5) + 32\n",
    "        symbol = \"f\"\n",
    "    else:\n",
    "        result = (temp-32)*5/9\n",
    "        symbol = \"c\"\n",
    "    print(f\"{temp}-{form} ---> {result}-{symbol}\")\n",
    "    print(\"**********\")\n"
   ]
  },
  {
   "cell_type": "markdown",
   "metadata": {},
   "source": [
    "## Q24\n",
    "Write a python program to sum of the first n positive integers"
   ]
  },
  {
   "cell_type": "code",
   "execution_count": 24,
   "metadata": {},
   "outputs": [
    {
     "name": "stdout",
     "output_type": "stream",
     "text": [
      "n : 12\n",
      "Sum of first 12 integers is : 78\n"
     ]
    }
   ],
   "source": [
    "n = int(input(\"Enter a number : \"))\n",
    "print(f\"n : {n}\")\n",
    "result = 0\n",
    "for i in range(n+1):\n",
    "    result += i\n",
    "print(f\"Sum of first {n} integers is : {result}\")"
   ]
  },
  {
   "cell_type": "markdown",
   "metadata": {},
   "source": [
    "## Q25\n",
    "Write a Python program to calculate the sum of the digits in an integer"
   ]
  },
  {
   "cell_type": "code",
   "execution_count": 25,
   "metadata": {},
   "outputs": [
    {
     "name": "stdout",
     "output_type": "stream",
     "text": [
      "Number : 8532598\n",
      "Sum of integers in 8532598 is : 40\n"
     ]
    }
   ],
   "source": [
    "n = input(\"Enter a number : \")\n",
    "print(f\"Number : {n}\")\n",
    "aList = []\n",
    "for a in n:\n",
    "    if a.isnumeric():\n",
    "        aList.append(int(a))\n",
    "print(f\"Sum of integers in {n} is : {sum(aList)}\")"
   ]
  },
  {
   "cell_type": "markdown",
   "metadata": {},
   "source": [
    "## Q26\n",
    "Write a Python program to convert an integer to Binary, Octal and Hexadecimal numbers"
   ]
  },
  {
   "cell_type": "code",
   "execution_count": 26,
   "metadata": {},
   "outputs": [
    {
     "name": "stdout",
     "output_type": "stream",
     "text": [
      "Number : 174\n",
      "Binary = 10101110\n",
      "Octal = 256\n",
      "Hexadecimal = ae\n"
     ]
    }
   ],
   "source": [
    "aNumber = int(input(\"Enter a number : \"))\n",
    "print(f\"Number : {aNumber}\")\n",
    "print(f\"Binary = {bin(aNumber)[2:]}\")\n",
    "print(f\"Octal = {oct(aNumber)[2:]}\")\n",
    "print(f\"Hexadecimal = {hex(aNumber)[2:]}\")"
   ]
  },
  {
   "cell_type": "markdown",
   "metadata": {},
   "source": [
    "## Q27\n",
    "Write a program to convert binary number to Decimal number"
   ]
  },
  {
   "cell_type": "code",
   "execution_count": 27,
   "metadata": {},
   "outputs": [
    {
     "name": "stdout",
     "output_type": "stream",
     "text": [
      "Binary number : 10101110\n",
      "Decimal number : 174\n"
     ]
    }
   ],
   "source": [
    "aNumber = input(\"Enter a binary number : \")\n",
    "print(f\"Binary number : {aNumber}\")\n",
    "print(f\"Decimal number : {int(aNumber, 2)}\")"
   ]
  },
  {
   "cell_type": "markdown",
   "metadata": {},
   "source": [
    "## Q28\n",
    "Write a program to convert Octal number to Decimal number"
   ]
  },
  {
   "cell_type": "code",
   "execution_count": 28,
   "metadata": {},
   "outputs": [
    {
     "name": "stdout",
     "output_type": "stream",
     "text": [
      "Octal number : 256\n",
      "Decimal number : 174\n"
     ]
    }
   ],
   "source": [
    "aNumber = input(\"Enter a octal number : \")\n",
    "print(f\"Octal number : {aNumber}\")\n",
    "print(f\"Decimal number : {int(aNumber, 8)}\")"
   ]
  },
  {
   "cell_type": "markdown",
   "metadata": {},
   "source": [
    "## Q29\n",
    "Write a program to convert Hexadecimal number to Decimal number"
   ]
  },
  {
   "cell_type": "code",
   "execution_count": 29,
   "metadata": {},
   "outputs": [
    {
     "name": "stdout",
     "output_type": "stream",
     "text": [
      "Hexadecimal number : ae\n",
      "Decimal number : 174\n"
     ]
    }
   ],
   "source": [
    "aNumber = input(\"Enter a hexadecimal number : \")\n",
    "print(f\"Hexadecimal number : {aNumber}\")\n",
    "print(f\"Decimal number : {int(aNumber, 16)}\")"
   ]
  },
  {
   "cell_type": "markdown",
   "metadata": {},
   "source": [
    "## Q30\n",
    "Write a Python program to count the number occurrence of a specific character in a string"
   ]
  },
  {
   "cell_type": "code",
   "execution_count": 30,
   "metadata": {},
   "outputs": [
    {
     "name": "stdout",
     "output_type": "stream",
     "text": [
      "String : You know that tingly feeling you get on the back of your neck sometimes? I just got that feeling when talking with her. You know I don't believe in sixth senses, but there is something not right with her. I don't know how I know, but I just do.\n",
      "Character : a\n",
      "Count = 4\n"
     ]
    }
   ],
   "source": [
    "aString = input(\"Enter a string : \")\n",
    "aCharacter = input(\"Enter a character : \")\n",
    "print(f\"String : {aString}\")\n",
    "print(f\"Character : {aCharacter}\")\n",
    "count = 0\n",
    "for i in aString.lower():\n",
    "    if i == aCharacter.lower():\n",
    "        count += 1\n",
    "print(f\"Count = {count}\")"
   ]
  },
  {
   "cell_type": "markdown",
   "metadata": {},
   "source": [
    "## Q31\n",
    "Write a Python program to compute the greatest common divisor (GCD) of two positive integers. (https://en.wikipedia.org/wiki/Euclidean_algorithm)"
   ]
  },
  {
   "cell_type": "code",
   "execution_count": 31,
   "metadata": {},
   "outputs": [
    {
     "name": "stdout",
     "output_type": "stream",
     "text": [
      "Number1 : 174\n",
      "Number2 : 85\n",
      "GCD : 1\n"
     ]
    }
   ],
   "source": [
    "import math\n",
    "number1 = int(input(\"Enter 1st number : \"))\n",
    "number2 = int(input(\"Enter 2nd nunber : \"))\n",
    "gcd = math.gcd(number1,number2)\n",
    "print(f\"Number1 : {number1}\")\n",
    "print(f\"Number2 : {number2}\")\n",
    "print(f\"GCD : {gcd}\")"
   ]
  },
  {
   "cell_type": "markdown",
   "metadata": {},
   "source": [
    "## Q32\n",
    "Write a Python program to get the least common multiple (LCM) of two positive integers (https://en.wikipedia.org/wiki/Least_common_multiple)"
   ]
  },
  {
   "cell_type": "code",
   "execution_count": 32,
   "metadata": {},
   "outputs": [
    {
     "name": "stdout",
     "output_type": "stream",
     "text": [
      "Number1 : 124\n",
      "Number2 : 7854\n",
      "LCM : 486948\n"
     ]
    }
   ],
   "source": [
    "import math\n",
    "number1 = int(input(\"Enter 1st number : \"))\n",
    "number2 = int(input(\"Enter 2nd nunber : \"))\n",
    "print(f\"Number1 : {number1}\")\n",
    "print(f\"Number2 : {number2}\")\n",
    "lcm = math.lcm(number1,number2)\n",
    "print(f\"LCM : {lcm}\")"
   ]
  },
  {
   "cell_type": "markdown",
   "metadata": {},
   "source": [
    "## Q33\n",
    "Write a Python program which accepts the user's first and last name and print them in reverse order with a space between them (Practice After Loops has been discussed)"
   ]
  },
  {
   "cell_type": "code",
   "execution_count": 33,
   "metadata": {},
   "outputs": [
    {
     "name": "stdout",
     "output_type": "stream",
     "text": [
      "First Name = Hassan\n",
      "Last Name = Ali\n",
      "Reversed name : ilA nassaH\n"
     ]
    }
   ],
   "source": [
    "f_name = input(\"First name : \")\n",
    "l_name = input(\"Last name : \")\n",
    "string_to_reverse = f\"{f_name} {l_name}\"\n",
    "aList = list(string_to_reverse)\n",
    "aList2= aList.copy()\n",
    "aList2.reverse()\n",
    "result = \"\".join(aList2)\n",
    "print(f\"First Name = {f_name}\")\n",
    "print(f\"Last Name = {l_name}\")\n",
    "print(f\"Reversed name : {result}\")"
   ]
  },
  {
   "cell_type": "markdown",
   "metadata": {},
   "source": [
    "## Q34\n",
    "Input a text and count the occurrences of vowels and consonant "
   ]
  },
  {
   "cell_type": "code",
   "execution_count": 34,
   "metadata": {},
   "outputs": [
    {
     "name": "stdout",
     "output_type": "stream",
     "text": [
      "Given string is : You know that tingly feeling you get on the back of your neck sometimes? I just got that feeling when talking with her. You know I don't believe in sixth senses, but there is something not right with her. I don't know how I know, but I just do.\n",
      "Vowels : 68\n",
      "Constants : 120\n"
     ]
    }
   ],
   "source": [
    "aString = input(\"Enter a string : \")\n",
    "print(f\"Given string is : {aString}\")\n",
    "aList = list(aString.lower())\n",
    "vowels = 0\n",
    "constants = 0\n",
    "for i in aList:\n",
    "    if i.isalpha():\n",
    "        if i in [\"a\",\"e\",\"i\",\"o\",\"u\"]:\n",
    "            vowels += 1\n",
    "        else:\n",
    "            constants += 1\n",
    "print(f\"Vowels : {vowels}\")\n",
    "print(f\"Constants : {constants}\")\n"
   ]
  },
  {
   "cell_type": "markdown",
   "metadata": {},
   "source": [
    "## Q35\n",
    "Write a Python program to find the number of notes (Sample of notes: 10, 20, 50, 100, 500, and 1000 ) against an given amount\n"
   ]
  },
  {
   "cell_type": "code",
   "execution_count": 35,
   "metadata": {},
   "outputs": [
    {
     "name": "stdout",
     "output_type": "stream",
     "text": [
      "Amount = 8532154\n",
      "1000 notes : 8532\n",
      "500 notes : 0\n",
      "100 notes : 1\n",
      "50 notes : 1\n",
      "20 notes : 0\n",
      "10 notes : 0\n",
      "Coins : 4\n",
      "**********\n",
      "Amount = 1004\n",
      "1000 notes : 1\n",
      "500 notes : 0\n",
      "100 notes : 0\n",
      "50 notes : 0\n",
      "20 notes : 0\n",
      "10 notes : 0\n",
      "Coins : 4\n",
      "**********\n",
      "Amount = 1771\n",
      "1000 notes : 1\n",
      "500 notes : 1\n",
      "100 notes : 2\n",
      "50 notes : 1\n",
      "20 notes : 1\n",
      "10 notes : 0\n",
      "Coins : 1\n",
      "**********\n"
     ]
    }
   ],
   "source": [
    "for i in [1,2,3]:\n",
    "    amount = int(input(\"Enter amount : \"))\n",
    "    print(f\"Amount = {amount}\")\n",
    "    thous_notes = amount // 1000\n",
    "    fivh_notes = (amount % 1000) // 500\n",
    "    hund_notes = ((amount % 1000) % 500) // 100\n",
    "    fiv_notes = (((amount % 1000) % 500) % 100)//50\n",
    "    twn_notes = ((((amount % 1000) % 500) % 100)%50)//20\n",
    "    t_notes = (((((amount % 1000) % 500) % 100)%50)%20)//10\n",
    "    chnage = (((((amount % 1000) % 500) % 100)%50)%20)%10\n",
    "    print(f\"1000 notes : {thous_notes}\")\n",
    "    print(f\"500 notes : {fivh_notes}\")\n",
    "    print(f\"100 notes : {hund_notes}\")\n",
    "    print(f\"50 notes : {fiv_notes}\")\n",
    "    print(f\"20 notes : {twn_notes}\")\n",
    "    print(f\"10 notes : {t_notes}\")\n",
    "    print(f\"Coins : {chnage}\")\n",
    "    print(\"**********\")"
   ]
  },
  {
   "cell_type": "markdown",
   "metadata": {},
   "source": [
    "## Q36\n",
    "Write a program to check whether given input is palindrome or not"
   ]
  },
  {
   "cell_type": "code",
   "execution_count": 36,
   "metadata": {},
   "outputs": [
    {
     "name": "stdout",
     "output_type": "stream",
     "text": [
      "Number = 11221\n",
      "Not a palindrome\n",
      "**********\n",
      "Number = 121\n",
      "Number is palindrome\n",
      "**********\n"
     ]
    }
   ],
   "source": [
    "for i in [1,2]:\n",
    "    aNumber = input(\"Enter a number : \")\n",
    "    print(f\"Number = {aNumber}\")\n",
    "    result = 0\n",
    "    aList1 = list(aNumber)\n",
    "    aList2 = aList1.copy()\n",
    "    aList2.reverse()\n",
    "    for i in range(len(aList1)):\n",
    "        if aList1[i] == aList2[i]:\n",
    "            pass\n",
    "        else:\n",
    "            result = 1\n",
    "            break\n",
    "    print(\"Number is palindrome\") if result == 0 else print(\"Not a palindrome\")\n",
    "    print(\"**********\")"
   ]
  },
  {
   "cell_type": "markdown",
   "metadata": {},
   "source": [
    "## Q37\n",
    "Write a Python program to reverse the digits of a given number and add it to the original, If the sum is not a palindrome repeat this procedure"
   ]
  },
  {
   "cell_type": "code",
   "execution_count": 37,
   "metadata": {},
   "outputs": [
    {
     "name": "stdout",
     "output_type": "stream",
     "text": [
      "Entered number is : 174\n",
      "Reverse number is : 471\n",
      "Sum is : 645 which is not palindrome try again\n",
      "**********\n",
      "Entered number is : 123456\n",
      "Reverse number is : 654321\n",
      "Sum is : 777777 which is palindrome\n",
      "**********\n"
     ]
    }
   ],
   "source": [
    "def reverse_the_number(n):\n",
    "    aList2 = list(str(n)).copy()\n",
    "    aList2.reverse()\n",
    "    reversed_number = int(\"\".join(aList2))\n",
    "    return reversed_number\n",
    "\n",
    "def check_palindrome(n):\n",
    "    aList1 = list(str(n))\n",
    "    aList2 = aList1.copy()\n",
    "    aList2.reverse()\n",
    "    the_number = str(n) \n",
    "    reversed_number = (\"\".join(aList2))\n",
    "    if the_number == reversed_number:\n",
    "        return 0\n",
    "    else:\n",
    "        return 1\n",
    "start_sum = 1\n",
    "while start_sum == 1:\n",
    "    aNumber = int(input(\"Enter a number : \"))\n",
    "    sum_of_numbers = aNumber + reverse_the_number(aNumber)\n",
    "    start_sum = check_palindrome(sum_of_numbers)\n",
    "    if start_sum == 0:\n",
    "        print(f\"Entered number is : {aNumber}\")\n",
    "        print(f\"Reverse number is : {reverse_the_number(aNumber)}\")\n",
    "        print(f\"Sum is : {sum_of_numbers} which is palindrome\")\n",
    "        print(\"**********\")\n",
    "    else:\n",
    "        print(f\"Entered number is : {aNumber}\")\n",
    "        print(f\"Reverse number is : {reverse_the_number(aNumber)}\")\n",
    "        print(f\"Sum is : {sum_of_numbers} which is not palindrome try again\")\n",
    "        print(\"**********\")"
   ]
  },
  {
   "cell_type": "markdown",
   "metadata": {},
   "source": [
    "# Q38\n",
    "Write a Python program to get the Fibonacci series between 0 to 50"
   ]
  },
  {
   "cell_type": "code",
   "execution_count": 38,
   "metadata": {},
   "outputs": [
    {
     "name": "stdout",
     "output_type": "stream",
     "text": [
      "Fibonacci series between 0 to 50 : [1, 1, 2, 3, 5, 8, 13, 21, 34]\n"
     ]
    }
   ],
   "source": [
    "x,y=0,1\n",
    "aList = []\n",
    "while y<50:\n",
    "    aList.append(y)\n",
    "    x,y = y,x+y\n",
    "print(f\"Fibonacci series between 0 to 50 : {aList}\")"
   ]
  },
  {
   "cell_type": "markdown",
   "metadata": {},
   "source": [
    "## Q39\n",
    "Write a Python program to create the multiplication table (from 1 to 10) of a number"
   ]
  },
  {
   "cell_type": "code",
   "execution_count": 39,
   "metadata": {},
   "outputs": [
    {
     "name": "stdout",
     "output_type": "stream",
     "text": [
      "Entered number : 17\n",
      "17 x 1 = 17\n",
      "17 x 2 = 34\n",
      "17 x 3 = 51\n",
      "17 x 4 = 68\n",
      "17 x 5 = 85\n",
      "17 x 6 = 102\n",
      "17 x 7 = 119\n",
      "17 x 8 = 136\n",
      "17 x 9 = 153\n",
      "17 x 10 = 170\n"
     ]
    }
   ],
   "source": [
    "num = int(input(\"Enter a number : \"))\n",
    "print(f\"Entered number : {num}\")\n",
    "for multiplier in range(1,11):\n",
    "    print(f\"{num} x {multiplier} = {num*multiplier}\")"
   ]
  },
  {
   "cell_type": "markdown",
   "metadata": {},
   "source": [
    "## Q40\n",
    "Write a Python program that accepts a string and calculate the number of digits and letters Sample Data : Python 3.2, Expected Output : Letters 6, Digits 2"
   ]
  },
  {
   "cell_type": "code",
   "execution_count": 40,
   "metadata": {},
   "outputs": [
    {
     "name": "stdout",
     "output_type": "stream",
     "text": [
      "Entered string is : 7H15 M3554G3 53RV35 7O PR0V3 H0W 0UR M1ND5 C4N D0 4M4Z1NG 7H1NG5! 1MPR3551V3 7H1NG5! 1N 7H3 B3G1NN1NG 17 WA5 H4RD BU7 N0W, 0N 7H15 LIN3 Y0UR M1ND 1S R34D1NG 17 4U70M471C4LLY W17H 0U7 3V3N 7H1NK1NG 4B0U7 17, B3 PROUD! 0NLY C3R741N P30PL3 C4N R3AD 7H15\n",
      "Letter Count : 105\n",
      "Digit Count : 96\n"
     ]
    }
   ],
   "source": [
    "aString = input(\"Enter a string : \")\n",
    "print(f\"Entered string is : {aString}\")\n",
    "aList = aString.split(\" \")\n",
    "digitCount = 0\n",
    "letterCount = 0\n",
    "for i in aString:\n",
    "    if i.isalpha():\n",
    "        letterCount += 1\n",
    "    elif i.isnumeric():\n",
    "        digitCount += 1\n",
    "print(f\"Letter Count : {letterCount}\")\n",
    "print(f\"Digit Count : {digitCount}\")\n"
   ]
  },
  {
   "cell_type": "markdown",
   "metadata": {},
   "source": [
    "## Q41\n",
    "Write a Python program to construct the following pattern, using a nested for loop\n"
   ]
  },
  {
   "cell_type": "code",
   "execution_count": 41,
   "metadata": {},
   "outputs": [
    {
     "data": {
      "text/plain": [
       "'\\n* \\n* * \\n* * * \\n* * * * \\n* * * * * \\n* * * * \\n* * * \\n* * \\n*\\n'"
      ]
     },
     "execution_count": 41,
     "metadata": {},
     "output_type": "execute_result"
    }
   ],
   "source": [
    "\"\"\"\n",
    "* \n",
    "* * \n",
    "* * * \n",
    "* * * * \n",
    "* * * * * \n",
    "* * * * \n",
    "* * * \n",
    "* * \n",
    "*\n",
    "\"\"\""
   ]
  },
  {
   "cell_type": "code",
   "execution_count": 42,
   "metadata": {},
   "outputs": [
    {
     "name": "stdout",
     "output_type": "stream",
     "text": [
      "* \n",
      "* * \n",
      "* * * \n",
      "* * * * \n",
      "* * * * * \n",
      "* * * * \n",
      "* * * \n",
      "* * \n",
      "* "
     ]
    }
   ],
   "source": [
    "step = 0\n",
    "for i in range(1,7):\n",
    "    if(step == 0):\n",
    "        pass\n",
    "    else:\n",
    "        print(\"\")\n",
    "    for j in range(1,i):\n",
    "        step = 1 \n",
    "        print(\"*\",end=\" \")\n",
    "for i in range(5,1,-1):\n",
    "    if(step == 0):\n",
    "        pass\n",
    "    else:\n",
    "        print(\"\")\n",
    "    for j in range(1,i):\n",
    "        step = 1 \n",
    "        print(\"*\",end=\" \")"
   ]
  },
  {
   "cell_type": "markdown",
   "metadata": {},
   "source": [
    "## Q42\n",
    "Write a Python program to construct the following pattern, using a nested for loop"
   ]
  },
  {
   "cell_type": "code",
   "execution_count": 43,
   "metadata": {},
   "outputs": [
    {
     "data": {
      "text/plain": [
       "'\\n1 \\n1 2 \\n1 2 3 \\n1 2 3 4 \\n1 2 3 4 5 \\n1 2 3 4 \\n1 2 3 \\n1 2 \\n1\\n'"
      ]
     },
     "execution_count": 43,
     "metadata": {},
     "output_type": "execute_result"
    }
   ],
   "source": [
    "\"\"\"\n",
    "1 \n",
    "1 2 \n",
    "1 2 3 \n",
    "1 2 3 4 \n",
    "1 2 3 4 5 \n",
    "1 2 3 4 \n",
    "1 2 3 \n",
    "1 2 \n",
    "1\n",
    "\"\"\""
   ]
  },
  {
   "cell_type": "code",
   "execution_count": 44,
   "metadata": {},
   "outputs": [
    {
     "name": "stdout",
     "output_type": "stream",
     "text": [
      "1 \n",
      "1 2 \n",
      "1 2 3 \n",
      "1 2 3 4 \n",
      "1 2 3 4 5 \n",
      "1 2 3 4 \n",
      "1 2 3 \n",
      "1 2 \n",
      "1 "
     ]
    }
   ],
   "source": [
    "step = 0\n",
    "for i in range(1,7):\n",
    "    if(step == 0):\n",
    "        pass\n",
    "    else:\n",
    "        print(\"\")\n",
    "    for j in range(1,i):\n",
    "        step = 1 \n",
    "        print(j,end=\" \")\n",
    "for i in range(5,1,-1):\n",
    "    if(step == 0):\n",
    "        pass\n",
    "    else:\n",
    "        print(\"\")\n",
    "    for j in range(1,i):\n",
    "        step = 1 \n",
    "        print(j,end=\" \")"
   ]
  },
  {
   "cell_type": "markdown",
   "metadata": {},
   "source": [
    "## Q43\n",
    "Write a Python program to construct the following pattern, using a nested loop number. "
   ]
  },
  {
   "cell_type": "code",
   "execution_count": 45,
   "metadata": {},
   "outputs": [
    {
     "data": {
      "text/plain": [
       "'\\n1\\n22\\n333\\n4444\\n55555\\n666666\\n7777777\\n88888888\\n999999999\\n'"
      ]
     },
     "execution_count": 45,
     "metadata": {},
     "output_type": "execute_result"
    }
   ],
   "source": [
    "\"\"\"\n",
    "1\n",
    "22\n",
    "333\n",
    "4444\n",
    "55555\n",
    "666666\n",
    "7777777\n",
    "88888888\n",
    "999999999\n",
    "\"\"\""
   ]
  },
  {
   "cell_type": "code",
   "execution_count": 46,
   "metadata": {},
   "outputs": [
    {
     "name": "stdout",
     "output_type": "stream",
     "text": [
      "1\n",
      "22\n",
      "333\n",
      "4444\n",
      "55555\n",
      "666666\n",
      "7777777\n",
      "88888888\n",
      "999999999"
     ]
    }
   ],
   "source": [
    "step = 0\n",
    "for i in range(1,10):\n",
    "    if(step == 0):\n",
    "        pass\n",
    "    else:\n",
    "        print(\"\")\n",
    "    for j in range(i):\n",
    "        step = 1\n",
    "        print(i,end=\"\")"
   ]
  }
 ],
 "metadata": {
  "interpreter": {
   "hash": "36936de28985cacfc4da12bbbf55d3c1f6084aa27c30ac425efd6e5a861cd2e0"
  },
  "kernelspec": {
   "display_name": "Python 3.10.1 64-bit",
   "language": "python",
   "name": "python3"
  },
  "language_info": {
   "codemirror_mode": {
    "name": "ipython",
    "version": 3
   },
   "file_extension": ".py",
   "mimetype": "text/x-python",
   "name": "python",
   "nbconvert_exporter": "python",
   "pygments_lexer": "ipython3",
   "version": "3.10.1"
  },
  "orig_nbformat": 4
 },
 "nbformat": 4,
 "nbformat_minor": 2
}
