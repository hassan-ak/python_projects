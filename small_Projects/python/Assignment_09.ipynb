{
 "cells": [
  {
   "cell_type": "markdown",
   "metadata": {},
   "source": [
    "# Assignment 09"
   ]
  },
  {
   "cell_type": "code",
   "execution_count": 1,
   "metadata": {},
   "outputs": [],
   "source": [
    "# Write a program that receives marks from user and check the grade.\n",
    "    # Marks greater than equal to 90 then A grade\n",
    "    # Marks between 80 to 90, B grade\n",
    "    # Marks between 70 to 80, C grade\n",
    "    # Marks between 60 to 70, D grade\n",
    "    # Marks less than equal to 60 then E grade"
   ]
  },
  {
   "cell_type": "code",
   "execution_count": 2,
   "metadata": {},
   "outputs": [
    {
     "name": "stdout",
     "output_type": "stream",
     "text": [
      "C\n"
     ]
    }
   ],
   "source": [
    "marks = int(input(\"Enter marks : \"))\n",
    "if marks >= 90:\n",
    "    grade = \"A\"\n",
    "elif marks > 80:\n",
    "    grade = \"B\"\n",
    "elif marks > 70:\n",
    "    grade = \"C\"\n",
    "elif marks > 60:\n",
    "    grade = \"D\"\n",
    "else:\n",
    "    grade = \"E\"\n",
    "print(grade)"
   ]
  },
  {
   "cell_type": "code",
   "execution_count": 3,
   "metadata": {},
   "outputs": [],
   "source": [
    "# The ABC Video company needs a way to determine the cost that a customer will pay for renting a DVD. \n",
    "# The cost is dependent on the time of day the DVD is returned. \n",
    "# However, there are also special rates on Thursdays and Sundays. \n",
    "# The fee structure is shown in the following list:\n",
    "    # The cost is $1.59 per night.\n",
    "    # If the DVD is returned after 8 PM, the customer will be charged an extra day.\n",
    "        # IF DVD is scratched charge 1$ Extra\n",
    "    # If the video is rented on a Sunday, the customer gets 30% off for as long as they keep the video\n",
    "        # If DVD is scratched charge 2$ Extra\n",
    "    # If the video is rented on a Thursday, the customer gets 50% off for as long as they keep the video"
   ]
  },
  {
   "cell_type": "code",
   "execution_count": 4,
   "metadata": {},
   "outputs": [],
   "source": [
    "from datetime import date\n",
    "import calendar\n",
    "from datetime import date\n",
    "import pandas as pd"
   ]
  },
  {
   "cell_type": "code",
   "execution_count": 5,
   "metadata": {},
   "outputs": [],
   "source": [
    "flag = True\n",
    "rented_DVDS = {}"
   ]
  },
  {
   "cell_type": "code",
   "execution_count": 10,
   "metadata": {},
   "outputs": [
    {
     "name": "stdout",
     "output_type": "stream",
     "text": [
      "Enter Data to rent out DVD\n"
     ]
    }
   ],
   "source": [
    "print(\"Enter Data to rent out DVD\")\n",
    "customer_id = input(\"Enter Customer ID : \")\n",
    "if customer_id in rented_DVDS.keys():\n",
    "    DVD_name = input(\"Enter DVD Name : \")\n",
    "    date_rented = input(\"Enter Date of rent in following pattern dd-mm-yyyy :: \")\n",
    "    date_rented = [int(x) for x in date_rented.split(\"-\")]\n",
    "    date_rented = date(date_rented[2], date_rented[1], date_rented[0])\n",
    "    day_rented = calendar.day_name[date_rented.weekday()]\n",
    "    rented_DVDS[customer_id][1].append([DVD_name,date_rented,day_rented])\n",
    "else:\n",
    "    customer_name = input(\"Enter Customer Name : \")\n",
    "    DVD_name = input(\"Enter DVD Name : \")\n",
    "    date_rented = input(\"Enter Date of rent in following pattern dd-mm-yyyy :: \")\n",
    "    date_rented = [int(x) for x in date_rented.split(\"-\")]\n",
    "    date_rented = date(date_rented[2], date_rented[1], date_rented[0])\n",
    "    day_rented = calendar.day_name[date_rented.weekday()]\n",
    "    rented_DVDS[customer_id] = [customer_name,[[DVD_name,date_rented,day_rented]]] \n",
    "    "
   ]
  },
  {
   "cell_type": "code",
   "execution_count": 11,
   "metadata": {},
   "outputs": [
    {
     "name": "stdout",
     "output_type": "stream",
     "text": [
      "{'1': ['Hassan ali Khan', [['The Game', datetime.date(2021, 3, 21), 'Sunday'], ['3Idots', datetime.date(2022, 4, 1), 'Friday'], ['No', datetime.date(2022, 3, 10), 'Thursday']]], '2': ['Zubair', [['Forest Gump', datetime.date(2019, 4, 26), 'Friday']]]}\n"
     ]
    }
   ],
   "source": [
    "print(rented_DVDS)"
   ]
  },
  {
   "cell_type": "code",
   "execution_count": 30,
   "metadata": {},
   "outputs": [
    {
     "name": "stdout",
     "output_type": "stream",
     "text": [
      "Following DVDs are rented by Hassan ali Khan\n",
      "       DVDs       Dated       Day\n",
      "0  The Game  2021-03-21    Sunday\n",
      "1    3Idots  2022-04-01    Friday\n",
      "2        No  2022-03-10  Thursday\n",
      "Total Rent is 20.67\n"
     ]
    }
   ],
   "source": [
    "customer_id = input(\"Enter Customer ID : \")\n",
    "if customer_id not in rented_DVDS.keys():\n",
    "    print(\"No DVD rented by this customer\")\n",
    "else:\n",
    "    dvds_list = rented_DVDS[customer_id][1]\n",
    "    print(f\"Following DVDs are rented by {rented_DVDS['1'][0]}\")\n",
    "    displayed = pd.DataFrame(dvds_list)\n",
    "    displayed.columns=[\"DVDs\",\"Dated\",\"Day\"]\n",
    "    print(displayed)\n",
    "    movie_to_return = input(\"Enter DVD Name : \")\n",
    "    date_to_return = date.today()\n",
    "    for i in dvds_list:\n",
    "        if(i[0] == movie_to_return):\n",
    "            daysRented = abs((i[1]-date_to_return).days)\n",
    "            dayRented = i[2]\n",
    "    late = input(\"Is DVD is returned after 8 PM 1 or 0\")\n",
    "    isScrached = input(\"Is DVD scrached 1 or 0\")\n",
    "    if late == \"1\":\n",
    "        daysRented +=1\n",
    "    total_rent = daysRented * 1.59\n",
    "    if dayRented == \"Sunday\":\n",
    "        total_rent = (total_rent - (total_rent*0.3))\n",
    "    if isScrached == \"1\":\n",
    "        total_rent += 2 \n",
    "    if dayRented == \"Thursday\":\n",
    "        total_rent = (total_rent - (total_rent*0.5))\n",
    "    if late == \"1\" and isScrached == \"1\":\n",
    "        total_rent += 1\n",
    "    print(f\"Total Rent is {total_rent}\")"
   ]
  }
 ],
 "metadata": {
  "interpreter": {
   "hash": "36936de28985cacfc4da12bbbf55d3c1f6084aa27c30ac425efd6e5a861cd2e0"
  },
  "kernelspec": {
   "display_name": "Python 3.10.1 64-bit",
   "language": "python",
   "name": "python3"
  },
  "language_info": {
   "codemirror_mode": {
    "name": "ipython",
    "version": 3
   },
   "file_extension": ".py",
   "mimetype": "text/x-python",
   "name": "python",
   "nbconvert_exporter": "python",
   "pygments_lexer": "ipython3",
   "version": "3.10.1"
  },
  "orig_nbformat": 4
 },
 "nbformat": 4,
 "nbformat_minor": 2
}
