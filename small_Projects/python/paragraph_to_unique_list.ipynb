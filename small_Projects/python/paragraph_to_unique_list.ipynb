{
 "cells": [
  {
   "cell_type": "markdown",
   "metadata": {},
   "source": [
    "# Question\n",
    "Suppose you are going to develop a software that takes input a text (string) and convert text into a list. Then each element of the text into lower case. After that it removes duplicates and then it stores text in another list with input number and the list"
   ]
  },
  {
   "cell_type": "markdown",
   "metadata": {},
   "source": [
    "## Solution:-"
   ]
  },
  {
   "cell_type": "code",
   "execution_count": 1,
   "metadata": {},
   "outputs": [
    {
     "data": {
      "text/plain": [
       "\"He knew what he was supposed to do. That had been apparent from the beginning. That was what made the choice so difficult. What he was supposed to do and what he would do were not the same. This would have been fine if he were willing to face the inevitable consequences, but he wasn't.\""
      ]
     },
     "execution_count": 1,
     "metadata": {},
     "output_type": "execute_result"
    }
   ],
   "source": [
    "user_input = input(\"Enter some text : \")\n",
    "user_input"
   ]
  },
  {
   "cell_type": "code",
   "execution_count": 2,
   "metadata": {},
   "outputs": [
    {
     "name": "stdout",
     "output_type": "stream",
     "text": [
      "['he', 'knew', 'what', 'he', 'was', 'supposed', 'to', 'do', 'that', 'had', 'been', 'apparent', 'from', 'the', 'beginning', 'that', 'was', 'what', 'made', 'the', 'choice', 'so', 'difficult', 'what', 'he', 'was', 'supposed', 'to', 'do', 'and', 'what', 'he', 'would', 'do', 'were', 'not', 'the', 'same', 'this', 'would', 'have', 'been', 'fine', 'if', 'he', 'were', 'willing', 'to', 'face', 'the', 'inevitable', 'consequences,', 'but', 'he', \"wasn't\"]\n"
     ]
    }
   ],
   "source": [
    "aList_of_words = []\n",
    "for word in user_input.split(\" \"):\n",
    "    aList_of_words.append((word.lower()).split(\".\")[0])\n",
    "print(aList_of_words)"
   ]
  },
  {
   "cell_type": "code",
   "execution_count": 3,
   "metadata": {},
   "outputs": [
    {
     "name": "stdout",
     "output_type": "stream",
     "text": [
      "['he', 'knew', 'what', 'was', 'supposed', 'to', 'do', 'that', 'had', 'been', 'apparent', 'from', 'the', 'beginning', 'made', 'choice', 'so', 'difficult', 'and', 'would', 'were', 'not', 'same', 'this', 'have', 'fine', 'if', 'willing', 'face', 'inevitable', 'consequences,', 'but', \"wasn't\"]\n"
     ]
    }
   ],
   "source": [
    "aList_of_unique_words = []\n",
    "for word in aList_of_words:\n",
    "    if word not in aList_of_unique_words:\n",
    "        aList_of_unique_words.append(word)\n",
    "print(aList_of_unique_words)"
   ]
  },
  {
   "cell_type": "code",
   "execution_count": 4,
   "metadata": {},
   "outputs": [
    {
     "name": "stdout",
     "output_type": "stream",
     "text": [
      "[{1: ['h', 'e']}, {2: ['k', 'n', 'e', 'w']}, {3: ['w', 'h', 'a', 't']}, {4: ['w', 'a', 's']}, {5: ['s', 'u', 'p', 'p', 'o', 's', 'e', 'd']}, {6: ['t', 'o']}, {7: ['d', 'o']}, {8: ['t', 'h', 'a', 't']}, {9: ['h', 'a', 'd']}, {10: ['b', 'e', 'e', 'n']}, {11: ['a', 'p', 'p', 'a', 'r', 'e', 'n', 't']}, {12: ['f', 'r', 'o', 'm']}, {13: ['t', 'h', 'e']}, {14: ['b', 'e', 'g', 'i', 'n', 'n', 'i', 'n', 'g']}, {15: ['m', 'a', 'd', 'e']}, {16: ['c', 'h', 'o', 'i', 'c', 'e']}, {17: ['s', 'o']}, {18: ['d', 'i', 'f', 'f', 'i', 'c', 'u', 'l', 't']}, {19: ['a', 'n', 'd']}, {20: ['w', 'o', 'u', 'l', 'd']}, {21: ['w', 'e', 'r', 'e']}, {22: ['n', 'o', 't']}, {23: ['s', 'a', 'm', 'e']}, {24: ['t', 'h', 'i', 's']}, {25: ['h', 'a', 'v', 'e']}, {26: ['f', 'i', 'n', 'e']}, {27: ['i', 'f']}, {28: ['w', 'i', 'l', 'l', 'i', 'n', 'g']}, {29: ['f', 'a', 'c', 'e']}, {30: ['i', 'n', 'e', 'v', 'i', 't', 'a', 'b', 'l', 'e']}, {31: ['c', 'o', 'n', 's', 'e', 'q', 'u', 'e', 'n', 'c', 'e', 's', ',']}, {32: ['b', 'u', 't']}, {33: ['w', 'a', 's', 'n', \"'\", 't']}]\n"
     ]
    }
   ],
   "source": [
    "aList_for_result = []\n",
    "count = 1\n",
    "for word in aList_of_unique_words:\n",
    "    aList_of_char = []\n",
    "    aDict_of_char = {}\n",
    "    for char in word:\n",
    "        aList_of_char.append(char)\n",
    "    aDict_of_char[count] = aList_of_char\n",
    "    count += 1\n",
    "    aList_for_result.append(aDict_of_char)\n",
    "print(aList_for_result)"
   ]
  }
 ],
 "metadata": {
  "interpreter": {
   "hash": "36936de28985cacfc4da12bbbf55d3c1f6084aa27c30ac425efd6e5a861cd2e0"
  },
  "kernelspec": {
   "display_name": "Python 3.10.1 64-bit",
   "language": "python",
   "name": "python3"
  },
  "language_info": {
   "codemirror_mode": {
    "name": "ipython",
    "version": 3
   },
   "file_extension": ".py",
   "mimetype": "text/x-python",
   "name": "python",
   "nbconvert_exporter": "python",
   "pygments_lexer": "ipython3",
   "version": "3.10.1"
  },
  "orig_nbformat": 4
 },
 "nbformat": 4,
 "nbformat_minor": 2
}
