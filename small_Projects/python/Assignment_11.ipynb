{
 "cells": [
  {
   "cell_type": "markdown",
   "metadata": {},
   "source": [
    "## Assignment 11"
   ]
  },
  {
   "cell_type": "markdown",
   "metadata": {},
   "source": [
    "## 01"
   ]
  },
  {
   "cell_type": "code",
   "execution_count": 1,
   "metadata": {},
   "outputs": [],
   "source": [
    "# Python Program to Add a Key-Value Pair to the Dictionary\n",
    "# Problem Solution:\n",
    "# 1. Take a key-value pair from the user and store it in separate variables.\n",
    "# 2. Declare a dictionary and initialize it to an empty dictionary.\n",
    "# 3. Use the update() function to add the key-value pair to the dictionary.\n",
    "# 4. Print the final dictionary.\n",
    "# 5. Exit."
   ]
  },
  {
   "cell_type": "code",
   "execution_count": 2,
   "metadata": {},
   "outputs": [
    {
     "name": "stdout",
     "output_type": "stream",
     "text": [
      "Entered Key : 12\n",
      "Entered Value : 34\n",
      "Resultant Dic : {12: 34}\n",
      "Entered Key : 34\n",
      "Entered Value : 29\n",
      "Resultant Dic : {34: 29}\n"
     ]
    }
   ],
   "source": [
    "for i in range(2):\n",
    "    aDic = {}\n",
    "    a = int(input(\"Enter key : \"))\n",
    "    b = int(input(\"Enter key : \"))\n",
    "    print(f\"Entered Key : {a}\")\n",
    "    print(f\"Entered Value : {b}\")\n",
    "    aDic.update({a:b})\n",
    "    print(f\"Resultant Dic : {aDic}\")"
   ]
  },
  {
   "cell_type": "markdown",
   "metadata": {},
   "source": [
    "## 02"
   ]
  },
  {
   "cell_type": "code",
   "execution_count": 3,
   "metadata": {},
   "outputs": [],
   "source": [
    "# Python Program to Concatenate Two Dictionaries Into One\n",
    "# Problem Solution\n",
    "# 1. Declare and initialize two dictionaries with some key-value pairs\n",
    "# 2. Use the update() function to add the key-value pair from the second dictionary to the first dictionary.\n",
    "# 3. Print the final dictionary.\n",
    "# 4. Exit.\n"
   ]
  },
  {
   "cell_type": "code",
   "execution_count": 4,
   "metadata": {},
   "outputs": [
    {
     "data": {
      "text/plain": [
       "{'A': 1, 'C': 3, 'B': 2}"
      ]
     },
     "execution_count": 4,
     "metadata": {},
     "output_type": "execute_result"
    }
   ],
   "source": [
    "a = {'A': 1, 'C': 3}\n",
    "b = {'B': 2}\n",
    "for k,v in b.items():\n",
    "    a.update({k:v})\n",
    "a"
   ]
  },
  {
   "cell_type": "markdown",
   "metadata": {},
   "source": [
    "## 03"
   ]
  },
  {
   "cell_type": "code",
   "execution_count": 5,
   "metadata": {},
   "outputs": [],
   "source": [
    "# Python Program to Check if a Given Key Exists in a Dictionary or Not\n",
    "# Problem Solution\n",
    "# 1. Declare and initialize a dictionary to have some key-value pairs.\n",
    "# 2. Take a key from the user and store it in a variable.\n",
    "# 3. Using an if statement and the in operator, check if the key is present in the dictionary using the \n",
    "# dictionary.keys() method.\n",
    "# 4. If it is present, print the value of the key.\n",
    "# 5. If it isn’t present, display that the key isn’t present in the dictionary.\n",
    "# 6. Exit."
   ]
  },
  {
   "cell_type": "code",
   "execution_count": 6,
   "metadata": {},
   "outputs": [
    {
     "name": "stdout",
     "output_type": "stream",
     "text": [
      "Enter Key 'A' in keys\n",
      "Enter Key 'Z' not in keys\n"
     ]
    }
   ],
   "source": [
    "a = {'A': 1, 'C': 3, 'B': 2}\n",
    "for i in range(2):\n",
    "    b = input(\"Enter a Key : \")\n",
    "    if b in a.keys():\n",
    "        print(f\"Enter Key '{b}' in keys\")\n",
    "    else:\n",
    "        print(f\"Enter Key '{b}' not in keys\")"
   ]
  },
  {
   "cell_type": "markdown",
   "metadata": {},
   "source": [
    "## 4"
   ]
  },
  {
   "cell_type": "code",
   "execution_count": 7,
   "metadata": {},
   "outputs": [],
   "source": [
    "# Python Program to Generate a Dictionary that Contains Numbers (between 1 and n) in the Form (x,x*x).\n",
    "# Problem Solution\n",
    "# 1. Take a number from the user and store it in a separate variable.\n",
    "# 2. Declare a dictionary and using dictionary comprehension initialize it to values keeping the number \n",
    "# between 1 to n as the key and the square of the number as their values.\n",
    "# 3. Print the final dictionary.\n",
    "# 4. Exit.\n"
   ]
  },
  {
   "cell_type": "code",
   "execution_count": 8,
   "metadata": {},
   "outputs": [
    {
     "name": "stdout",
     "output_type": "stream",
     "text": [
      "Entered number : 5\n",
      "Result : {1: 1, 2: 4, 3: 9, 4: 16, 5: 25}\n",
      "Entered number : 19\n",
      "Result : {1: 1, 2: 4, 3: 9, 4: 16, 5: 25, 6: 36, 7: 49, 8: 64, 9: 81, 10: 100, 11: 121, 12: 144, 13: 169, 14: 196, 15: 225, 16: 256, 17: 289, 18: 324, 19: 361}\n"
     ]
    }
   ],
   "source": [
    "for i in range(2):\n",
    "    a = {}\n",
    "    b = int(input(\"Enter a Number : \"))\n",
    "    for i in range(1,b+1):\n",
    "        a.update({i:i**2})\n",
    "    print(f\"Entered number : {b}\")\n",
    "    print(f\"Result : {a}\")"
   ]
  },
  {
   "cell_type": "markdown",
   "metadata": {},
   "source": [
    "## 5"
   ]
  },
  {
   "cell_type": "code",
   "execution_count": 9,
   "metadata": {},
   "outputs": [],
   "source": [
    "# Python Program to Sum All the Items in a Dictionary\n",
    "# Problem Solution\n",
    "# 1. Declare and initialize a dictionary to have some key-value pairs.\n",
    "# 2. Find the sum of all the values in the dictionary.\n",
    "# 3. Print the total sum.\n",
    "# 4. Exit.\n"
   ]
  },
  {
   "cell_type": "code",
   "execution_count": 10,
   "metadata": {},
   "outputs": [
    {
     "name": "stdout",
     "output_type": "stream",
     "text": [
      "55\n"
     ]
    }
   ],
   "source": [
    "a = {1: 1, 2: 4, 3: 9, 4: 16, 5: 25}\n",
    "result = sum(list(a.values()))\n",
    "print(result)"
   ]
  },
  {
   "cell_type": "markdown",
   "metadata": {},
   "source": [
    "## 6"
   ]
  },
  {
   "cell_type": "code",
   "execution_count": 11,
   "metadata": {},
   "outputs": [],
   "source": [
    "# Python Program to Multiply All the Items in a Dictionary\n",
    "# Problem Solution\n",
    "# 1. Declare and initialize a dictionary to have some key-value pairs.\n",
    "# 2. Initialize a variable that should contain the total multiplied value to 1.\n",
    "# 3. Use the for loop to traverse through the values of the dictionary.\n",
    "# 4. Then multiply all the values in the dictionary against each other.\n",
    "# 5. Print the total multiplied value.\n",
    "# 6. Exit"
   ]
  },
  {
   "cell_type": "code",
   "execution_count": 12,
   "metadata": {},
   "outputs": [
    {
     "name": "stdout",
     "output_type": "stream",
     "text": [
      "14400\n"
     ]
    }
   ],
   "source": [
    "a = {1: 1, 2: 4, 3: 9, 4: 16, 5: 25}\n",
    "r = list(a.values())\n",
    "result = 1\n",
    "for i in r:\n",
    "    result *= i\n",
    "print(result)"
   ]
  },
  {
   "cell_type": "markdown",
   "metadata": {},
   "source": [
    "## 7"
   ]
  },
  {
   "cell_type": "code",
   "execution_count": 13,
   "metadata": {},
   "outputs": [],
   "source": [
    "# Python Program to Remove the Given Key from a Dictionary\n",
    "# Problem Solution\n",
    "# 1. Declare and initialize a dictionary to have some key-value pairs.\n",
    "# 2. Take a key from the user and store it in a variable.\n",
    "# 3. Using an if statement and the in operator, check if the key is present in the dictionary.\n",
    "# 4. If it is present, delete the key-value pair.\n",
    "# 5. If it isn’t present, print that the key isn’t found and exit the program.\n",
    "# 6. Exit."
   ]
  },
  {
   "cell_type": "code",
   "execution_count": 14,
   "metadata": {},
   "outputs": [
    {
     "name": "stdout",
     "output_type": "stream",
     "text": [
      "Original dic : {'a': 1, 'c': 3, 'b': 2, 'd': 4}\n",
      "Resultant dic : {'a': 1, 'b': 2, 'd': 4}\n",
      "Entered Key 'g' not in keys\n"
     ]
    }
   ],
   "source": [
    "a = {'a': 1, 'c': 3, 'b': 2, 'd': 4}\n",
    "for i in range(2):\n",
    "    b = input(\"Enter a Key : \")\n",
    "    if b in a.keys():\n",
    "        print(f\"Original dic : {a}\")\n",
    "        a.pop(b)\n",
    "        print(f\"Resultant dic : {a}\")\n",
    "    else:\n",
    "        print(f\"Entered Key '{b}' not in keys\")\n",
    "        break\n"
   ]
  },
  {
   "cell_type": "markdown",
   "metadata": {},
   "source": [
    "## 8"
   ]
  },
  {
   "cell_type": "code",
   "execution_count": 15,
   "metadata": {},
   "outputs": [],
   "source": [
    "# Python Program to Map Two Lists into a Dictionary\n",
    "# Problem Solution\n",
    "# 1. Declare two empty lists and initialize them to an empty list.\n",
    "# 3. Consider a for loop to accept values for the two lists.\n",
    "# 4. Take the number of elements in the list and store it in a variable.\n",
    "# 5. Accept the values into the list using another for loop and insert into the list.\n",
    "# 6. Repeat 4 and 5 for the values list also.\n",
    "# 7. Zip the two lists and use dict() to convert it into a dictionary.\n",
    "# 8. Print the dictionary.\n",
    "# 9. Exit.\n"
   ]
  },
  {
   "cell_type": "code",
   "execution_count": 16,
   "metadata": {},
   "outputs": [
    {
     "name": "stdout",
     "output_type": "stream",
     "text": [
      "For Keys\n",
      "For Values\n",
      "{'1': '1', '2': '4', '3': '9'}\n",
      "For Keys\n",
      "For Values\n",
      "{'23': '69', '46': '138'}\n"
     ]
    }
   ],
   "source": [
    "for i in range(2):\n",
    "    kList = []\n",
    "    vList = []\n",
    "    number = int(input(\"Enter Number of elements : \"))\n",
    "    print(\"For Keys\")\n",
    "    for i in range(number):\n",
    "        k = input(f\"Enter element {i+1} : \")\n",
    "        kList.append(k)\n",
    "    print(\"For Values\")\n",
    "    for i in range(number):\n",
    "        k = input(f\"Enter element {i+1} : \")\n",
    "        vList.append(k)\n",
    "    result = dict(zip(kList,vList))\n",
    "    print(result)"
   ]
  },
  {
   "cell_type": "markdown",
   "metadata": {},
   "source": [
    "## 9"
   ]
  },
  {
   "cell_type": "code",
   "execution_count": 17,
   "metadata": {},
   "outputs": [],
   "source": [
    "# Python Program to Count the Frequency of Words Appearing in a String Using a Dictionary\n",
    "# Problem Solution\n",
    "# 1. Enter a string and store it in a variable.\n",
    "# 2. Declare a list variable and initialize it to an empty list.\n",
    "# 3. Split the string into words and store it in the list.\n",
    "# 4. Count the frequency of each word and store it in another list.\n",
    "# 5. Using the zip() function, merge the lists containing the words and the word counts into a dictionary.\n",
    "# 3. Print the final dictionary.\n",
    "# 4. Exit."
   ]
  },
  {
   "cell_type": "code",
   "execution_count": 18,
   "metadata": {},
   "outputs": [
    {
     "name": "stdout",
     "output_type": "stream",
     "text": [
      "hello world program world test\n",
      "{'program': 1, 'hello': 1, 'test': 1, 'world': 2}\n",
      "orange banana apple apple orange pineapple\n",
      "{'banana': 1, 'apple': 2, 'orange': 2, 'pineapple': 1}\n"
     ]
    }
   ],
   "source": [
    "for i in range(2):\n",
    "    result = {}\n",
    "    aString = input(\"Enter a String : \")\n",
    "    print(aString)\n",
    "    aList = aString.split(\" \")\n",
    "    aTup = set(aList)\n",
    "    for i in aTup:\n",
    "        result[i] = aList.count(i)\n",
    "    print(result)\n"
   ]
  },
  {
   "cell_type": "markdown",
   "metadata": {},
   "source": [
    "## 10"
   ]
  },
  {
   "cell_type": "code",
   "execution_count": 19,
   "metadata": {},
   "outputs": [],
   "source": [
    "# Python Program to Create a Dictionary with Key as First Character and Value as Words Starting with that \n",
    "# Character\n",
    "# Problem Solution\n",
    "# 1. Enter a string and store it in a variable.\n",
    "# 2. Declare an empty dictionary.\n",
    "# 3. Split the string into words and store it in a list.\n",
    "# 4. Using a for loop and if statement check if the word already present as a key in the dictionary.\n",
    "# 5. If it is not present, initialize the letter of the word as the key and the word as the value and append it \n",
    "# to a sublist created in the list.\n",
    "# 6. If it is present, add the word as the value to the corresponding sublist.\n",
    "# 7. Print the final dictionary.\n",
    "# 8. Exit."
   ]
  },
  {
   "cell_type": "code",
   "execution_count": 20,
   "metadata": {},
   "outputs": [
    {
     "name": "stdout",
     "output_type": "stream",
     "text": [
      "Hello world this is a test string sanfoundry\n",
      "{'H': ['Hello'], 's': ['string', 'sanfoundry'], 't': ['this', 'test'], 'w': ['world'], 'i': ['is'], 'a': ['a']}\n",
      "python is my most favourite programming language in the entire world\n",
      "{'m': ['my', 'most'], 'i': ['is', 'in'], 'l': ['language'], 't': ['the'], 'w': ['world'], 'p': ['python', 'programming'], 'e': ['entire'], 'f': ['favourite']}\n"
     ]
    }
   ],
   "source": [
    "for i in range(2):\n",
    "    s = input(\"Enter a String : \")\n",
    "    print(s)\n",
    "    aList = s.split(\" \")\n",
    "    aTu = set(aList)\n",
    "    result = {}\n",
    "    for i in aTu:\n",
    "        result[i[0]] = []\n",
    "        for j in aList:\n",
    "            if i[0] == j[0]:\n",
    "                result[i[0]].append(j)\n",
    "    print(result)\n"
   ]
  }
 ],
 "metadata": {
  "kernelspec": {
   "display_name": "Python 3",
   "language": "python",
   "name": "python3"
  },
  "language_info": {
   "codemirror_mode": {
    "name": "ipython",
    "version": 3
   },
   "file_extension": ".py",
   "mimetype": "text/x-python",
   "name": "python",
   "nbconvert_exporter": "python",
   "pygments_lexer": "ipython3",
   "version": "3.10.1"
  }
 },
 "nbformat": 4,
 "nbformat_minor": 1
}
