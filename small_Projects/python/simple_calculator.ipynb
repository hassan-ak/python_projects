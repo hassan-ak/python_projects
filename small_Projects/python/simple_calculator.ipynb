{
 "cells": [
  {
   "cell_type": "markdown",
   "metadata": {},
   "source": [
    "# Question\n",
    "Create a simple calculator which can accept two values and an operation and compute accordingly."
   ]
  },
  {
   "cell_type": "markdown",
   "metadata": {},
   "source": [
    "## Solution:-"
   ]
  },
  {
   "cell_type": "code",
   "execution_count": 1,
   "metadata": {},
   "outputs": [
    {
     "name": "stdout",
     "output_type": "stream",
     "text": [
      "Number 01 = 13\n",
      "Number 02 = 5\n",
      "Operation = /\n",
      "13 / 5 = 2.6\n"
     ]
    }
   ],
   "source": [
    "number1 = int(input(\"Enter 1st number : \"))\n",
    "number2 = int(input(\"Enter 2nd number : \"))\n",
    "print(f\"Number 01 = {number1}\")\n",
    "print(f\"Number 02 = {number2}\")\n",
    "operation = input(\"Enter operation (+, -, *, /) : \")\n",
    "print(f\"Operation = {operation}\")\n",
    "if operation == \"+\":\n",
    "    print(f\"{number1} {operation} {number2} = {number1 + number2}\")\n",
    "elif operation == \"-\":\n",
    "    print(f\"{number1} {operation} {number2} = {number1 - number2}\")\n",
    "elif operation == \"*\":\n",
    "    print(f\"{number1} {operation} {number2} = {number1 * number2}\")\n",
    "elif operation == \"/\":\n",
    "    print(f\"{number1} {operation} {number2} = {number1 / number2}\")\n",
    "else:\n",
    "    print(\"Invalid operation entered\")"
   ]
  }
 ],
 "metadata": {
  "interpreter": {
   "hash": "36936de28985cacfc4da12bbbf55d3c1f6084aa27c30ac425efd6e5a861cd2e0"
  },
  "kernelspec": {
   "display_name": "Python 3.10.1 64-bit",
   "language": "python",
   "name": "python3"
  },
  "language_info": {
   "codemirror_mode": {
    "name": "ipython",
    "version": 3
   },
   "file_extension": ".py",
   "mimetype": "text/x-python",
   "name": "python",
   "nbconvert_exporter": "python",
   "pygments_lexer": "ipython3",
   "version": "3.10.1"
  },
  "orig_nbformat": 4
 },
 "nbformat": 4,
 "nbformat_minor": 2
}
